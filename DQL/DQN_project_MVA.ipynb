{
 "cells": [
  {
   "cell_type": "markdown",
   "metadata": {
    "colab_type": "text",
    "id": "wmQ2N2tlVupf"
   },
   "source": [
    "**You may need to install [OpenCV](https://pypi.python.org/pypi/opencv-python) and [scikit-video](http://www.scikit-video.org/stable/).**"
   ]
  },
  {
   "cell_type": "code",
   "execution_count": null,
   "metadata": {
    "colab": {},
    "colab_type": "code",
    "id": "199JtVgIVupv"
   },
   "outputs": [],
   "source": [
    "import keras\n",
    "import numpy as np\n",
    "import io\n",
    "import base64\n",
    "from IPython.display import HTML\n",
    "import skvideo.io\n",
    "import cv2\n",
    "import json\n",
    "\n",
    "from keras.models import Sequential,model_from_json\n",
    "from keras.layers.core import Dense\n",
    "from keras.optimizers import sgd\n",
    "from keras.layers import Conv2D, MaxPooling2D, Activation, AveragePooling2D,Reshape,BatchNormalization, Flatten"
   ]
  },
  {
   "cell_type": "markdown",
   "metadata": {
    "colab_type": "text",
    "id": "hOHnjFXKVuqJ"
   },
   "source": [
    "# MiniProject on Deep Reinforcement Learning"
   ]
  },
  {
   "cell_type": "markdown",
   "metadata": {
    "colab_type": "text",
    "id": "Otgw61viVuqT"
   },
   "source": [
    "__Notations__: $E_p$ is the expectation under probability $p$. Please justify each of your answer and widely comment your code."
   ]
  },
  {
   "cell_type": "markdown",
   "metadata": {
    "colab_type": "text",
    "id": "DWJHk8OrVuqc"
   },
   "source": [
    "# Context"
   ]
  },
  {
   "cell_type": "markdown",
   "metadata": {
    "colab_type": "text",
    "id": "7abWftvgVuqk"
   },
   "source": [
    "In a reinforcement learning algorithm, we modelize each step $t$ as an action $a_t$ obtained from a state $s_t$, i.e. $\\{(a_{t},s_{t})_{t\\leq T}\\}$ having the Markov property. We consider a discount factor $\\gamma \\in [0,1]$ that ensures convergence. The goal is to find among all the policies $\\pi$, one that maximizes the expected reward:\n",
    "\n",
    "\\begin{equation*}\n",
    "R(\\pi)=\\sum_{t\\leq T}E_{p^{\\pi}}[\\gamma^t r(s_{t},a_{t})] \\> ,\n",
    "\\end{equation*}\n",
    "\n",
    "where: \n",
    "\\begin{equation*}p^{\\pi}(a_{0},a_{1},s_{1},...,a_{T},s_{T})=p(a_{0})\\prod_{t=1}^{T}\\pi(a_{t}|s_{t})p(s_{t+1}|s_{t},a_{t}) \\> .\n",
    "\\end{equation*}\n",
    "\n",
    "We note the $Q$-function:\n",
    "\n",
    "\\begin{equation*}Q^\\pi(s,a)=E_{p^{\\pi}}[\\sum_{t\\leq T}\\gamma^{t}r(s_{t},a_{t})|s_{0}=s,a_{0}=a] \\> .\n",
    "\\end{equation*}\n",
    "\n",
    "Thus, the optimal Q function is:\n",
    "\\begin{equation*}\n",
    "Q^*(s,a)=\\max_{\\pi}Q^\\pi(s,a) \\> .\n",
    "\\end{equation*}\n",
    "\n",
    "In this project, we will apply the deep reinforcement learning techniques to a simple game: an agent will have to learn from scratch a policy that will permit it maximizing a reward."
   ]
  },
  {
   "cell_type": "markdown",
   "metadata": {
    "colab_type": "text",
    "id": "1DRJ7c1UVuqu"
   },
   "source": [
    "## The environment, the agent and the game"
   ]
  },
  {
   "cell_type": "markdown",
   "metadata": {
    "colab_type": "text",
    "id": "7SYceT33Vuq2"
   },
   "source": [
    "### The environment"
   ]
  },
  {
   "cell_type": "markdown",
   "metadata": {
    "colab_type": "text",
    "id": "Q4mutJbFVuq9"
   },
   "source": [
    "```Environment``` is an abstract class that represents the states, rewards, and actions to obtain the new state."
   ]
  },
  {
   "cell_type": "code",
   "execution_count": null,
   "metadata": {
    "colab": {},
    "colab_type": "code",
    "id": "T7er1bgkVurF"
   },
   "outputs": [],
   "source": [
    "class Environment(object):\n",
    "    def __init__(self):\n",
    "        pass\n",
    "\n",
    "    def act(self, act):\n",
    "        \"\"\"\n",
    "        One can act on the environment and obtain its reaction:\n",
    "        - the new state\n",
    "        - the reward of the new state\n",
    "        - should we continue the game?\n",
    "\n",
    "        :return: state, reward, game_over\n",
    "        \"\"\"\n",
    "        pass\n",
    "\n",
    "\n",
    "    def reset(self):\n",
    "        \"\"\"\n",
    "        Reinitialize the environment to a random state and returns\n",
    "        the original state\n",
    "\n",
    "        :return: state\n",
    "        \"\"\"\n",
    "        pass\n",
    "    \n",
    "    def draw(self):\n",
    "        \"\"\"\n",
    "        Visualize in the console or graphically the current state\n",
    "        \"\"\"\n",
    "        pass"
   ]
  },
  {
   "cell_type": "markdown",
   "metadata": {
    "colab_type": "text",
    "id": "wUCJ37p2Vurl"
   },
   "source": [
    "The method ```act``` allows to act on the environment at a given state $s_t$ (stored internally), via action $a_t$. The method will return the new state $s_{t+1}$, the reward $r(s_{t},a_{t})$ and determines if $t\\leq T$ (*game_over*).\n",
    "\n",
    "The method ```reset``` simply reinitializes the environment to a random state $s_0$.\n",
    "\n",
    "The method ```draw``` displays the current state $s_t$ (this is useful to check the behavior of the Agent).\n",
    "\n",
    "We modelize $s_t$ as a tensor, while $a_t$ is an integer."
   ]
  },
  {
   "cell_type": "markdown",
   "metadata": {
    "colab_type": "text",
    "id": "TE9CoNgAVurr"
   },
   "source": [
    "### The Agent"
   ]
  },
  {
   "cell_type": "markdown",
   "metadata": {
    "colab_type": "text",
    "id": "p_J3yBc1Vury"
   },
   "source": [
    "The goal of the ```Agent``` is to interact with the ```Environment``` by proposing actions $a_t$ obtained from a given state $s_t$ to attempt to maximize its __reward__ $r(s_t,a_t)$. We propose the following abstract class:"
   ]
  },
  {
   "cell_type": "code",
   "execution_count": null,
   "metadata": {
    "colab": {},
    "colab_type": "code",
    "id": "wt-mX5JGVur3"
   },
   "outputs": [],
   "source": [
    "class Agent(object):\n",
    "    def __init__(self, epsilon=0.1, n_action=4):\n",
    "        self.epsilon = epsilon\n",
    "        self.n_action = n_action\n",
    "    \n",
    "    def set_epsilon(self,e):\n",
    "        self.epsilon = e\n",
    "\n",
    "    def act(self,s,train=True):\n",
    "        \"\"\" This function should return the next action to do:\n",
    "        an integer between 0 and 4 (not included) with a random exploration of epsilon\"\"\"\n",
    "        if train:\n",
    "            if np.random.rand() <= self.epsilon:\n",
    "                a = np.random.randint(0, self.n_action, size=1)[0]\n",
    "            else:\n",
    "                a = self.learned_act(s)\n",
    "        else: # in some cases, this can improve the performance.. remove it if poor performances\n",
    "            a = self.learned_act(s)\n",
    "\n",
    "        return a\n",
    "\n",
    "    def learned_act(self,s):\n",
    "        \"\"\" Act via the policy of the agent, from a given state s\n",
    "        it proposes an action a\"\"\"\n",
    "        pass\n",
    "\n",
    "    def reinforce(self, s, n_s, a, r, game_over_):\n",
    "        \"\"\" This function is the core of the learning algorithm. \n",
    "        It takes as an input the current state s_, the next state n_s_\n",
    "        the action a_ used to move from s_ to n_s_ and the reward r_.\n",
    "        \n",
    "        Its goal is to learn a policy.\n",
    "        \"\"\"\n",
    "        pass\n",
    "\n",
    "    def save(self):\n",
    "        \"\"\" This function returns basic stats if applicable: the\n",
    "        loss and/or the model\"\"\"\n",
    "        pass\n",
    "\n",
    "    def load(self):\n",
    "        \"\"\" This function allows to restore a model\"\"\"\n",
    "        pass"
   ]
  },
  {
   "cell_type": "markdown",
   "metadata": {
    "colab_type": "text",
    "id": "nQ951DN2VusO"
   },
   "source": [
    "***\n",
    "__Question 1__:\n",
    "Explain the function act. Why is ```epsilon``` essential?"
   ]
  },
  {
   "cell_type": "markdown",
   "metadata": {
    "colab_type": "text",
    "id": "0bmx86UnVusV"
   },
   "source": [
    "The parameter epsilon is essential because it allows random decision between choosing a new random action  and exploring the environment to get more information, or choosing to follow the learned policy, which is to say, make action that maximized past rewards. It's an exploration / exploitation process."
   ]
  },
  {
   "cell_type": "markdown",
   "metadata": {
    "colab_type": "text",
    "id": "nanog4g1Vusa"
   },
   "source": [
    "***\n",
    "### The Game"
   ]
  },
  {
   "cell_type": "markdown",
   "metadata": {
    "colab_type": "text",
    "id": "rrAlkRAgVusn"
   },
   "source": [
    "The ```Agent``` and the ```Environment``` work in an interlaced way as in the following (take some time to understand this code as it is the core of the project)\n",
    "\n",
    "```python\n",
    "\n",
    "epoch = 300\n",
    "env = Environment()\n",
    "agent = Agent()\n",
    "\n",
    "\n",
    "# Number of won games\n",
    "score = 0\n",
    "loss = 0\n",
    "\n",
    "\n",
    "for e in range(epoch):\n",
    "    # At each epoch, we restart to a fresh game and get the initial state\n",
    "    state = env.reset()\n",
    "    # This assumes that the games will end\n",
    "    game_over = False\n",
    "\n",
    "    win = 0\n",
    "    lose = 0\n",
    "    \n",
    "    while not game_over:\n",
    "        # The agent performs an action\n",
    "        action = agent.act(state)\n",
    "\n",
    "        # Apply an action to the environment, get the next state, the reward\n",
    "        # and if the games end\n",
    "        prev_state = state\n",
    "        state, reward, game_over = env.act(action)\n",
    "\n",
    "        # Update the counters\n",
    "        if reward > 0:\n",
    "            win = win + reward\n",
    "        if reward < 0:\n",
    "            lose = lose -reward\n",
    "\n",
    "        # Apply the reinforcement strategy\n",
    "        loss = agent.reinforce(prev_state, state,  action, reward, game_over)\n",
    "\n",
    "    # Save as a mp4\n",
    "    if e % 10 == 0:\n",
    "        env.draw(e)\n",
    "\n",
    "    # Update stats\n",
    "    score += win-lose\n",
    "\n",
    "    print(\"Epoch {:03d}/{:03d} | Loss {:.4f} | Win/lose count {}/{} ({})\"\n",
    "          .format(e, epoch, loss, win, lose, win-lose))\n",
    "    agent.save()\n",
    "```"
   ]
  },
  {
   "cell_type": "markdown",
   "metadata": {
    "colab_type": "text",
    "id": "aO7O5SJCVusu"
   },
   "source": [
    "# The game, *eat cheese*"
   ]
  },
  {
   "cell_type": "markdown",
   "metadata": {
    "colab_type": "text",
    "id": "40yqOo_5Vus2"
   },
   "source": [
    "A rat runs on an island and tries to eat as much as possible. The island is subdivided into $N\\times N$ cells, in which there are cheese (+0.5) and poisonous cells (-1). The rat has a visibility of 2 cells (thus it can see $5^2$ cells). The rat is given a time $T$ to accumulate as much food as possible. It can perform 4 actions: going up, down, left, right. \n",
    "\n",
    "The goal is to code an agent to solve this task that will learn by trial and error. We propose the following environment:"
   ]
  },
  {
   "cell_type": "code",
   "execution_count": null,
   "metadata": {
    "colab": {},
    "colab_type": "code",
    "id": "BvhNg1cVVus7"
   },
   "outputs": [],
   "source": [
    "class Environment(object):\n",
    "    def __init__(self, grid_size=10, max_time=500, temperature=0.1):\n",
    "        grid_size = grid_size+4\n",
    "        self.grid_size = grid_size\n",
    "        self.max_time = max_time\n",
    "        self.temperature = temperature\n",
    "\n",
    "        #board on which one plays\n",
    "        self.board = np.zeros((grid_size,grid_size))\n",
    "        self.position = np.zeros((grid_size,grid_size))\n",
    "\n",
    "        # coordinate of the cat\n",
    "        self.x = 0\n",
    "        self.y = 1\n",
    "\n",
    "        # self time\n",
    "        self.t = 0\n",
    "\n",
    "        self.scale=16\n",
    "\n",
    "        self.to_draw = np.zeros((max_time+2, grid_size*self.scale, grid_size*self.scale, 3))\n",
    "\n",
    "\n",
    "    def draw(self,e):\n",
    "        skvideo.io.vwrite(str(e) + '.mp4', self.to_draw)\n",
    "\n",
    "    def get_frame(self,t):\n",
    "        b = np.zeros((self.grid_size,self.grid_size,3))+128\n",
    "        b[self.board>0,0] = 256\n",
    "        b[self.board < 0, 2] = 256\n",
    "        b[self.x,self.y,:]=256\n",
    "        b[-2:,:,:]=0\n",
    "        b[:,-2:,:]=0\n",
    "        b[:2,:,:]=0\n",
    "        b[:,:2,:]=0\n",
    "        \n",
    "        b =  cv2.resize(b, None, fx=self.scale, fy=self.scale, interpolation=cv2.INTER_NEAREST)\n",
    "\n",
    "        self.to_draw[t,:,:,:]=b\n",
    "\n",
    "\n",
    "    def act(self, action):\n",
    "        \"\"\"This function returns the new state, reward and decides if the\n",
    "        game ends.\"\"\"\n",
    "\n",
    "        self.get_frame(int(self.t))\n",
    "\n",
    "        self.position = np.zeros((self.grid_size, self.grid_size))\n",
    "\n",
    "        self.position[0:2,:]= -1\n",
    "        self.position[:,0:2] = -1\n",
    "        self.position[-2:, :] = -1\n",
    "        self.position[:, -2:] = -1\n",
    "\n",
    "        self.position[self.x, self.y] = 1\n",
    "        if action == 0:\n",
    "            if self.x == self.grid_size-3:\n",
    "                self.x = self.x-1\n",
    "            else:\n",
    "                self.x = self.x + 1\n",
    "        elif action == 1:\n",
    "            if self.x == 2:\n",
    "                self.x = self.x+1\n",
    "            else:\n",
    "                self.x = self.x-1\n",
    "        elif action == 2:\n",
    "            if self.y == self.grid_size - 3:\n",
    "                self.y = self.y - 1\n",
    "            else:\n",
    "                self.y = self.y + 1\n",
    "        elif action == 3:\n",
    "            if self.y == 2:\n",
    "                self.y = self.y + 1\n",
    "            else:\n",
    "                self.y = self.y - 1\n",
    "        else:\n",
    "            RuntimeError('Error: action not recognized')\n",
    "\n",
    "        self.t = self.t + 1\n",
    "        reward = self.board[self.x, self.y]\n",
    "        self.board[self.x, self.y] = 0\n",
    "        game_over = self.t > self.max_time\n",
    "        state = np.concatenate((self.board.reshape(self.grid_size, self.grid_size,1),\n",
    "                        self.position.reshape(self.grid_size, self.grid_size,1)),axis=2)\n",
    "        state = state[self.x-2:self.x+3,self.y-2:self.y+3,:]\n",
    "\n",
    "        return state, reward, game_over\n",
    "\n",
    "    def reset(self):\n",
    "        \"\"\"This function resets the game and returns the initial state\"\"\"\n",
    "\n",
    "        self.x = np.random.randint(3, self.grid_size-3, size=1)[0]\n",
    "        self.y = np.random.randint(3, self.grid_size-3, size=1)[0]\n",
    "\n",
    "\n",
    "        bonus = 0.5*np.random.binomial(1,self.temperature,size=self.grid_size**2)\n",
    "        bonus = bonus.reshape(self.grid_size,self.grid_size)\n",
    "\n",
    "        malus = -1.0*np.random.binomial(1,self.temperature,size=self.grid_size**2)\n",
    "        malus = malus.reshape(self.grid_size, self.grid_size)\n",
    "\n",
    "        self.to_draw = np.zeros((self.max_time+2, self.grid_size*self.scale, self.grid_size*self.scale, 3))\n",
    "\n",
    "\n",
    "        malus[bonus>0]=0\n",
    "\n",
    "        self.board = bonus + malus\n",
    "\n",
    "        self.position = np.zeros((self.grid_size, self.grid_size))\n",
    "        self.position[0:2,:]= -1\n",
    "        self.position[:,0:2] = -1\n",
    "        self.position[-2:, :] = -1\n",
    "        self.position[:,-2:] = -1\n",
    "        self.board[self.x,self.y] = 0\n",
    "        self.t = 0\n",
    "\n",
    "        state = np.concatenate((\n",
    "                               self.board.reshape(self.grid_size, self.grid_size,1),\n",
    "                        self.position.reshape(self.grid_size, self.grid_size,1)),axis=2)\n",
    "\n",
    "        state = state[self.x - 2:self.x + 3, self.y - 2:self.y + 3, :]\n",
    "        return state"
   ]
  },
  {
   "cell_type": "markdown",
   "metadata": {
    "colab_type": "text",
    "id": "rHWDIr44VutJ"
   },
   "source": [
    "The following elements are important because they correspond to the hyper parameters for this project:"
   ]
  },
  {
   "cell_type": "code",
   "execution_count": null,
   "metadata": {
    "colab": {},
    "colab_type": "code",
    "id": "hQX5wrOzVutO"
   },
   "outputs": [],
   "source": [
    "# parameters\n",
    "size = 13\n",
    "T=200\n",
    "temperature=0.3\n",
    "epochs_train=51 # set small when debugging\n",
    "epochs_test=11 # set small when debugging\n",
    "\n",
    "# display videos\n",
    "def display_videos(name):\n",
    "    video = io.open(name, 'r+b').read()\n",
    "    encoded = base64.b64encode(video)\n",
    "    return '''<video alt=\"test\" controls>\n",
    "                <source src=\"data:video/mp4;base64,{0}\" type=\"video/mp4\" />\n",
    "             </video>'''.format(encoded.decode('ascii'))"
   ]
  },
  {
   "cell_type": "markdown",
   "metadata": {
    "colab_type": "text",
    "id": "fvtgn8uLVutg"
   },
   "source": [
    "__Question 2__ Explain the use of the arrays ```position``` and ```board```."
   ]
  },
  {
   "cell_type": "markdown",
   "metadata": {
    "colab_type": "text",
    "id": "duZTqHErVutn"
   },
   "source": [
    "The position array saves the cells of the grid that the rat has visited. It's equal to 1 if the cell has been visited and 0 if not. Also, there is a padding of size 2 where the cells values are equal to -1, corresponding to the visibility of the rat. The board array saves the rewards of the game."
   ]
  },
  {
   "cell_type": "markdown",
   "metadata": {
    "colab_type": "text",
    "id": "Ye822fSbVuts"
   },
   "source": [
    "\n",
    "## Random Agent"
   ]
  },
  {
   "cell_type": "markdown",
   "metadata": {
    "colab_type": "text",
    "id": "Rl8sOwZ5Vutw"
   },
   "source": [
    "***\n",
    "__Question 3__ Implement a random Agent (only ```learned_act``` needs to be implemented):"
   ]
  },
  {
   "cell_type": "code",
   "execution_count": null,
   "metadata": {
    "colab": {},
    "colab_type": "code",
    "id": "s1x_A9ZNVut3"
   },
   "outputs": [],
   "source": [
    "class RandomAgent(Agent):\n",
    "    def __init__(self):\n",
    "        super(RandomAgent, self).__init__()\n",
    "        pass\n",
    "\n",
    "    def learned_act(self, s):\n",
    "        a = np.random.randint(0, self.n_action, size=1)[0]\n",
    "        return a"
   ]
  },
  {
   "cell_type": "markdown",
   "metadata": {
    "colab_type": "text",
    "id": "WtdQVPvTVuuF"
   },
   "source": [
    "***\n",
    "***\n",
    "__Question 4__ Visualize the game moves. You need to fill in the following function for the evaluation:"
   ]
  },
  {
   "cell_type": "code",
   "execution_count": null,
   "metadata": {
    "colab": {},
    "colab_type": "code",
    "id": "c_MAdnQKVuuJ"
   },
   "outputs": [],
   "source": [
    "def test(agent,env,epochs,prefix=''):\n",
    "    # Number of won games\n",
    "    score = 0\n",
    "        \n",
    "    for e in range(epochs):\n",
    "        # At each epoch, we restart to a fresh game and get the initial state\n",
    "        state = env.reset()\n",
    "        # This assumes that the games will end\n",
    "        game_over = False\n",
    "\n",
    "        win = 0\n",
    "        lose = 0\n",
    "\n",
    "        while not game_over:\n",
    "            # The agent performs an action\n",
    "            action = agent.act(state,train=False)\n",
    "\n",
    "            # Apply an action to the environment, get the next state, the reward\n",
    "            # and if the games end\n",
    "            prev_state = state\n",
    "            state, reward, game_over = env.act(action)\n",
    "\n",
    "            # Update the counters\n",
    "            if reward > 0:\n",
    "                win = win + reward\n",
    "            if reward < 0:\n",
    "                lose = lose -reward\n",
    "\n",
    "        # Save as a mp4\n",
    "        if e % 10 == 0:\n",
    "            env.draw(e)\n",
    "        # Save as a mp4\n",
    "        env.draw(prefix+str(e))\n",
    "\n",
    "        # Update stats\n",
    "        score = score + win-lose\n",
    "\n",
    "        print(\"Win/lose count {}/{}. Average score ({})\"\n",
    "              .format(win, lose, score/(1+e)))\n",
    "    print('Final score: '+str(score/epochs))"
   ]
  },
  {
   "cell_type": "code",
   "execution_count": 107,
   "metadata": {
    "colab": {
     "base_uri": "https://localhost:8080/",
     "height": 497
    },
    "colab_type": "code",
    "id": "JfEM7I2CVuuc",
    "outputId": "100dc9a2-8805-4abe-ff67-bfbe56e1b857"
   },
   "outputs": [
    {
     "name": "stdout",
     "output_type": "stream",
     "text": [
      "Win/lose count 12.5/16.0. Average score (-3.5)\n",
      "Win/lose count 12.0/16.0. Average score (-3.75)\n",
      "Win/lose count 10.5/17.0. Average score (-4.666666666666667)\n",
      "Win/lose count 6.0/12.0. Average score (-5.0)\n",
      "Win/lose count 9.5/14.0. Average score (-4.9)\n",
      "Win/lose count 8.5/11.0. Average score (-4.5)\n",
      "Win/lose count 11.0/16.0. Average score (-4.571428571428571)\n",
      "Win/lose count 12.5/13.0. Average score (-4.0625)\n",
      "Win/lose count 8.0/16.0. Average score (-4.5)\n",
      "Win/lose count 13.0/16.0. Average score (-4.35)\n",
      "Win/lose count 10.0/19.0. Average score (-4.7727272727272725)\n",
      "Final score: -4.7727272727272725\n"
     ]
    },
    {
     "data": {
      "text/html": [
       "<video alt=\"test\" controls>\n",
       "                <source src=\"data:video/mp4;base64,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\" type=\"video/mp4\" />\n",
       "             </video>"
      ],
      "text/plain": [
       "<IPython.core.display.HTML object>"
      ]
     },
     "execution_count": 107,
     "metadata": {
      "tags": []
     },
     "output_type": "execute_result"
    }
   ],
   "source": [
    "# Initialize the game\n",
    "env = Environment(grid_size=size, max_time=T,temperature=temperature)\n",
    "\n",
    "# Initialize the agent!\n",
    "agent = RandomAgent()\n",
    "\n",
    "test(agent,env,epochs_test,prefix='random')\n",
    "HTML(display_videos('random0.mp4'))"
   ]
  },
  {
   "cell_type": "markdown",
   "metadata": {
    "colab_type": "text",
    "id": "elswFFcbVuuv"
   },
   "source": [
    "***\n",
    "## DQN"
   ]
  },
  {
   "cell_type": "markdown",
   "metadata": {
    "colab_type": "text",
    "id": "oW58YKuhVuuz"
   },
   "source": [
    "Let us assume here that $T=\\infty$.\n",
    "\n",
    "***\n",
    "__Question 5__ Let $\\pi$ be a policy, show that:\n",
    "\n",
    "\\begin{equation*}\n",
    "Q^{\\pi}(s,a)=E_{(s',a')\\sim p(.|s,a)}[r(s,a)+\\gamma Q^{\\pi}(s',a')]\n",
    "\\end{equation*}\n",
    "\n",
    "Then, show that for the optimal policy $\\pi^*$ (we assume its existence), the following holds: \n",
    "\n",
    "\\begin{equation*}\n",
    "Q^{*}(s,a)=E_{s'\\sim \\pi^*(.|s,a)}[r(s,a)+\\gamma\\max_{a'}Q^{*}(s',a')].\n",
    "\\end{equation*}\n",
    "Finally, deduce that a plausible objective is:\n",
    "\n",
    "\\begin{equation*}\n",
    "\\mathcal{L}(\\theta)=E_{s' \\sim \\pi^*(.|s,a)}\\Vert r+\\gamma\\max\\max_{a'}Q(s',a',\\theta)-Q(s,a,\\theta)\\Vert^{2}.\n",
    "\\end{equation*}\n",
    "\n",
    "\n"
   ]
  },
  {
   "cell_type": "markdown",
   "metadata": {
    "colab_type": "text",
    "id": "DzvJ9hweVuu6"
   },
   "source": [
    "\n",
    "<strong>Answer :</strong> We recall the expression of $Q^\\pi(s, a)$:\n",
    "\n",
    "\\begin{equation*}\n",
    "Q^\\pi(s,a)=E_{p^{\\pi}}[\\sum_{t\\leq T}\\gamma^{t}r(s_{t},a_{t})|s_{0}=s,a_{0}=a]\n",
    "\\end{equation*}\n",
    "\n",
    "Then we have (we assumed that $T = \\infty$):\n",
    "\n",
    "\\begin{align*}\n",
    "Q^\\pi(s,a) &= E_{p^{\\pi}}[r(s_0, a_0) + \\gamma\\sum_{t\\leq T}\\gamma^{t}r(s_{t},a_{t}) | s_0 = s, a_0 = a] \\\\\n",
    "&= E_{p^{\\pi}}[r(s, a) + \\gamma Q^\\pi(s,a) | s_0 = s, a_0 = a] \\\\&= E_{(s',a')\\sim p(.|s,a)}[r(s,a)+\\gamma Q^{\\pi}(s',a')]\n",
    "\\end{align*}\n",
    "\n",
    "\n",
    "<strong>Answer :</strong> By definition we have :\n",
    "\\begin{align*}\n",
    "Q^{*}(s,a) &= \\underset{\\pi}{max} \\: Q^\\pi (s, a) \\\\ &= \\underset{\\pi}{max} \\: E_{(s',a')\\sim p(.|s,a)}[r(s,a)+\\gamma Q^{\\pi}(s',a')] \\\\ &= \\underset{\\pi}{max} \\: r(s, a) + \\gamma E_{(s',a')\\sim p(.|s,a)}[Q^{\\pi}(s',a')]\n",
    "\\end{align*}\n",
    "\n",
    "We have by optimality of $\\pi^*$, $\\underset{\\pi}{max} E_{(s',a')\\sim p(.|s,a)}[Q^{\\pi}(s',a')] =  E_{s' \\sim \\pi^*(. |s, a)} [max_{a'} \\: Q^{\\pi^*}(s', a')] $.\n",
    "\n",
    "Hence we get :\n",
    "\\begin{align*}\n",
    "Q^{*} (s,a) &= E_{s' \\sim \\pi^{*} (. |s, a)} [r(s,a) + \\gamma \\underset{a'}{max} \\: Q^{\\pi^*}(s', a')]\n",
    "\\end{align*}\n",
    "\n",
    "<strong>Answer :</strong> We want to minimize the squared error $(Q^{*}(s,a) - Q_{\\theta}(s,a))^2$ but $Q^*(s,a)$ is unknown so we replace it by an estimate  $E_{s'\\sim p(.|s,a)}[r(s,a)+\\gamma\\max_{a'}Q_\\theta(s',a')]$. From that, we propose the loss \n",
    "\\begin{align*}\n",
    "\\mathcal{L}(\\theta)=E_{s' \\sim \\pi^{*} (.|s,a)}\\Vert r+ \\gamma \\max_{a'}Q(s',a',\\theta)-Q(s,a,\\theta)\\Vert^{2}.\n",
    "\n",
    "\\end{align*}\n",
    "\n"
   ]
  },
  {
   "cell_type": "markdown",
   "metadata": {
    "colab_type": "text",
    "id": "nhbYj75bVuvG"
   },
   "source": [
    "***\n",
    "The DQN-learning algorithm relies on these derivations to train the parameters $\\theta$ of a Deep Neural Network:\n",
    "\n",
    "1. At the state $s_t$, select the action $a_t$ with best reward using $Q_t$ and store the results;\n",
    "\n",
    "2. Obtain the new state $s_{t+1}$ from the environment $p$;\n",
    "\n",
    "3. Store $(s_t,a_t,s_{t+1})$;\n",
    "\n",
    "4. Obtain $Q_{t+1}$ by minimizing  $\\mathcal{L}$ from a recovered batch from the previously stored results.\n",
    "\n",
    "***\n",
    "__Question 6__ Implement the class ```Memory``` that stores moves (in a replay buffer) via ```remember``` and provides a ```random_access``` to these. Specify a maximum memory size to avoid side effects. You can for example use a ```list()``` and set by default ```max_memory=100```."
   ]
  },
  {
   "cell_type": "code",
   "execution_count": null,
   "metadata": {
    "colab": {},
    "colab_type": "code",
    "id": "or3iFYifVuvJ"
   },
   "outputs": [],
   "source": [
    "class Memory(object):\n",
    "    def __init__(self, max_memory=100):\n",
    "        self.max_memory = max_memory\n",
    "        self.memory = list()\n",
    "\n",
    "    def remember(self, m):\n",
    "        self.memory.append(m)\n",
    "        # delete first element of memory if memory length > max_memory\n",
    "        if len(self.memory) > self.max_memory:\n",
    "            del self.memory[0]\n",
    "\n",
    "    def random_access(self):\n",
    "        choice = np.random.randint(0, len(self.memory), size=1)[0]\n",
    "        return self.memory[choice]"
   ]
  },
  {
   "cell_type": "markdown",
   "metadata": {
    "colab_type": "text",
    "id": "tpMQ_aj9Vuvh"
   },
   "source": [
    "***\n",
    "The pipeline we will use for training is given below:"
   ]
  },
  {
   "cell_type": "code",
   "execution_count": null,
   "metadata": {
    "colab": {},
    "colab_type": "code",
    "id": "aOFMvIrRVuvm"
   },
   "outputs": [],
   "source": [
    "def train(agent,env,epoch,prefix=''):\n",
    "    # Number of won games\n",
    "    score = 0\n",
    "    loss = 0\n",
    "\n",
    "    for e in range(epoch):\n",
    "        # At each epoch, we restart to a fresh game and get the initial state\n",
    "        state = env.reset()\n",
    "        # This assumes that the games will terminate\n",
    "        game_over = False\n",
    "\n",
    "        win = 0\n",
    "        lose = 0\n",
    "\n",
    "        while not game_over:\n",
    "            # The agent performs an action\n",
    "            action = agent.act(state)\n",
    "\n",
    "            # Apply an action to the environment, get the next state, the reward\n",
    "            # and if the games end\n",
    "            prev_state = state\n",
    "            state, reward, game_over = env.act(action)\n",
    "\n",
    "            # Update the counters\n",
    "            if reward > 0:\n",
    "                win = win + reward\n",
    "            if reward < 0:\n",
    "                lose = lose -reward\n",
    "\n",
    "            # Apply the reinforcement strategy\n",
    "            loss = agent.reinforce(prev_state, state,  action, reward, game_over)\n",
    "\n",
    "        # Save as a mp4\n",
    "        if e % 10 == 0:\n",
    "            env.draw(prefix+str(e))\n",
    "\n",
    "        # Update stats\n",
    "        score += win-lose\n",
    "\n",
    "        print(\"Epoch {:03d}/{:03d} | Loss {:.4f} | Win/lose count {}/{} ({})\"\n",
    "              .format(e, epoch, loss, win, lose, win-lose))\n",
    "        agent.save(name_weights=prefix+'model.h5',name_model=prefix+'model.json')"
   ]
  },
  {
   "cell_type": "markdown",
   "metadata": {
    "colab_type": "text",
    "id": "y9M88cLGVuwF"
   },
   "source": [
    "***\n",
    "__Question 7__ Implement the DQN training algorithm using a cascade of fully connected layers. You can use different learning rate, batch size or memory size parameters. In particular, the loss might oscillate while the player will start to win the games. You have to find a good criterium."
   ]
  },
  {
   "cell_type": "code",
   "execution_count": null,
   "metadata": {
    "colab": {},
    "colab_type": "code",
    "id": "wUlGiOBIVuwK"
   },
   "outputs": [],
   "source": [
    "class DQN(Agent):\n",
    "    def __init__(self, grid_size,  epsilon = 0.1, memory_size=100, batch_size = 16,n_state=2):\n",
    "        super(DQN, self).__init__(epsilon = epsilon)\n",
    "\n",
    "        # Discount for Q learning\n",
    "        self.discount = 0.99\n",
    "        \n",
    "        self.grid_size = grid_size\n",
    "        \n",
    "        # number of state\n",
    "        self.n_state = n_state\n",
    "\n",
    "        # Memory\n",
    "        self.memory = Memory(memory_size)\n",
    "        \n",
    "        # Batch size when learning\n",
    "        self.batch_size = batch_size\n",
    "    def learned_act(self, s):\n",
    "        return np.argmax(self.model.predict(np.expand_dims(s, axis=0)))\n",
    "\n",
    "    def reinforce(self, s_, n_s_, a_, r_, game_over_):\n",
    "        # Two steps: first memorize the states, second learn from the pool\n",
    "\n",
    "        self.memory.remember([s_, n_s_, a_, r_, game_over_])\n",
    "        input_states = np.zeros([self.batch_size, 5, 5, self.n_state])\n",
    "        target_q = np.zeros([self.batch_size, 4])\n",
    "        \n",
    "        for i in range(self.batch_size):\n",
    "            s_, n_s_, a_, r_, game_over_ = self.memory.random_access()\n",
    "            input_states[i] = s_\n",
    "            \n",
    "            target_q[i] = self.model.predict(np.expand_dims(s_, axis=0))\n",
    "            if game_over_:\n",
    "                target_q[i,a_] = r_\n",
    "            else:\n",
    "                target_q[i,a_] = r_ + self.discount * np.max(self.model.predict(np.expand_dims(n_s_, axis=0)))\n",
    "\n",
    "        # HINT: Clip the target to avoid exploiding gradients.. -- clipping is a bit tighter\n",
    "        target_q = np.clip(target_q, -3, 3)\n",
    "        l = self.model.train_on_batch(input_states, target_q)\n",
    "\n",
    "\n",
    "        return l\n",
    "\n",
    "    def save(self,name_weights='model.h5',name_model='model.json'):\n",
    "        self.model.save_weights(name_weights, overwrite=True)\n",
    "        with open(name_model, \"w\") as outfile:\n",
    "            json.dump(self.model.to_json(), outfile)\n",
    "            \n",
    "    def load(self,name_weights='model.h5',name_model='model.json'):\n",
    "        with open(name_model, \"r\") as jfile:\n",
    "            model = model_from_json(json.load(jfile))\n",
    "        model.load_weights(name_weights)\n",
    "        model.compile(\"sgd\", \"mse\")\n",
    "        self.model = model\n",
    "\n",
    "            \n",
    "class DQN_FC(DQN):\n",
    "    def __init__(self, *args, lr=0.1,**kwargs):\n",
    "        super(DQN_FC, self).__init__( *args,**kwargs)\n",
    "        \n",
    "        # NN Model\n",
    "        model = Sequential()\n",
    "        model.add(Flatten(input_shape=(5,5,self.n_state,)))\n",
    "        model.add(Dense(32, activation='relu'))\n",
    "        model.add(Dense(4, activation='linear'))\n",
    "        model.compile(sgd(lr=lr, decay=1e-4, momentum=0.0), \"mse\")\n",
    "        self.model = model\n",
    "        "
   ]
  },
  {
   "cell_type": "code",
   "execution_count": 109,
   "metadata": {
    "colab": {
     "base_uri": "https://localhost:8080/",
     "height": 1000
    },
    "colab_type": "code",
    "id": "ZLohHPm4Vuwm",
    "outputId": "12490a99-4513-4945-ea8e-526a3bcb45e6"
   },
   "outputs": [
    {
     "name": "stdout",
     "output_type": "stream",
     "text": [
      "Epoch 000/051 | Loss 0.0077 | Win/lose count 4.0/5.0 (-1.0)\n",
      "Epoch 001/051 | Loss 0.0119 | Win/lose count 4.5/3.0 (1.5)\n",
      "Epoch 002/051 | Loss 0.0082 | Win/lose count 2.5/6.0 (-3.5)\n",
      "Epoch 003/051 | Loss 0.0102 | Win/lose count 2.5/5.0 (-2.5)\n",
      "Epoch 004/051 | Loss 0.0499 | Win/lose count 2.5/6.0 (-3.5)\n",
      "Epoch 005/051 | Loss 0.0032 | Win/lose count 2.5/3.0 (-0.5)\n",
      "Epoch 006/051 | Loss 0.0097 | Win/lose count 5.0/4.0 (1.0)\n",
      "Epoch 007/051 | Loss 0.0135 | Win/lose count 3.0/3.0 (0.0)\n",
      "Epoch 008/051 | Loss 0.0069 | Win/lose count 4.5/5.0 (-0.5)\n",
      "Epoch 009/051 | Loss 0.0084 | Win/lose count 3.5/3.0 (0.5)\n",
      "Epoch 010/051 | Loss 0.0067 | Win/lose count 2.5/7.0 (-4.5)\n",
      "Epoch 011/051 | Loss 0.0086 | Win/lose count 2.0/2.0 (0.0)\n",
      "Epoch 012/051 | Loss 0.0112 | Win/lose count 1.5/3.0 (-1.5)\n",
      "Epoch 013/051 | Loss 0.0057 | Win/lose count 0.5/2.0 (-1.5)\n",
      "Epoch 014/051 | Loss 0.0071 | Win/lose count 2.5/0 (2.5)\n",
      "Epoch 015/051 | Loss 0.0019 | Win/lose count 3.0/2.0 (1.0)\n",
      "Epoch 016/051 | Loss 0.0101 | Win/lose count 4.0/3.0 (1.0)\n",
      "Epoch 017/051 | Loss 0.0110 | Win/lose count 6.0/6.0 (0.0)\n",
      "Epoch 018/051 | Loss 0.0088 | Win/lose count 5.0/2.0 (3.0)\n",
      "Epoch 019/051 | Loss 0.0544 | Win/lose count 4.5/3.0 (1.5)\n",
      "Epoch 020/051 | Loss 0.0021 | Win/lose count 6.5/4.0 (2.5)\n",
      "Epoch 021/051 | Loss 0.0850 | Win/lose count 5.5/2.0 (3.5)\n",
      "Epoch 022/051 | Loss 0.0505 | Win/lose count 4.5/1.0 (3.5)\n",
      "Epoch 023/051 | Loss 0.0049 | Win/lose count 4.5/5.0 (-0.5)\n",
      "Epoch 024/051 | Loss 0.0019 | Win/lose count 3.5/0 (3.5)\n",
      "Epoch 025/051 | Loss 0.0101 | Win/lose count 2.0/4.0 (-2.0)\n",
      "Epoch 026/051 | Loss 0.0027 | Win/lose count 6.0/1.0 (5.0)\n",
      "Epoch 027/051 | Loss 0.0046 | Win/lose count 5.0/5.0 (0.0)\n",
      "Epoch 028/051 | Loss 0.0038 | Win/lose count 4.5/2.0 (2.5)\n",
      "Epoch 029/051 | Loss 0.0054 | Win/lose count 5.5/1.0 (4.5)\n",
      "Epoch 030/051 | Loss 0.0035 | Win/lose count 3.0/3.0 (0.0)\n",
      "Epoch 031/051 | Loss 0.0074 | Win/lose count 7.0/7.0 (0.0)\n",
      "Epoch 032/051 | Loss 0.0487 | Win/lose count 7.0/3.0 (4.0)\n",
      "Epoch 033/051 | Loss 0.0066 | Win/lose count 6.0/7.0 (-1.0)\n",
      "Epoch 034/051 | Loss 0.0039 | Win/lose count 3.5/6.0 (-2.5)\n",
      "Epoch 035/051 | Loss 0.0163 | Win/lose count 4.0/4.0 (0.0)\n",
      "Epoch 036/051 | Loss 0.0062 | Win/lose count 3.5/4.0 (-0.5)\n",
      "Epoch 037/051 | Loss 0.0049 | Win/lose count 5.5/2.0 (3.5)\n",
      "Epoch 038/051 | Loss 0.0055 | Win/lose count 2.0/4.0 (-2.0)\n",
      "Epoch 039/051 | Loss 0.0019 | Win/lose count 5.5/1.0 (4.5)\n",
      "Epoch 040/051 | Loss 0.0020 | Win/lose count 10.0/4.0 (6.0)\n",
      "Epoch 041/051 | Loss 0.0015 | Win/lose count 4.5/2.0 (2.5)\n",
      "Epoch 042/051 | Loss 0.0516 | Win/lose count 11.5/5.0 (6.5)\n",
      "Epoch 043/051 | Loss 0.0101 | Win/lose count 10.5/4.0 (6.5)\n",
      "Epoch 044/051 | Loss 0.0047 | Win/lose count 12.5/3.0 (9.5)\n",
      "Epoch 045/051 | Loss 0.0042 | Win/lose count 5.0/1.0 (4.0)\n",
      "Epoch 046/051 | Loss 0.0087 | Win/lose count 7.5/3.0 (4.5)\n",
      "Epoch 047/051 | Loss 0.0027 | Win/lose count 5.5/3.0 (2.5)\n",
      "Epoch 048/051 | Loss 0.0018 | Win/lose count 2.5/2.0 (0.5)\n",
      "Epoch 049/051 | Loss 0.0046 | Win/lose count 14.0/4.0 (10.0)\n",
      "Epoch 050/051 | Loss 0.0071 | Win/lose count 3.0/1.0 (2.0)\n"
     ]
    },
    {
     "data": {
      "text/html": [
       "<video alt=\"test\" controls>\n",
       "                <source src=\"data:video/mp4;base64,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\" type=\"video/mp4\" />\n",
       "             </video>"
      ],
      "text/plain": [
       "<IPython.core.display.HTML object>"
      ]
     },
     "execution_count": 109,
     "metadata": {
      "tags": []
     },
     "output_type": "execute_result"
    }
   ],
   "source": [
    "# I performed the training on 51 epochs (to make the video available). After some runs, \n",
    "# I found that one hidden layer was sufficient and adding more layers did not improved the performance. \n",
    "# I also played on epsilon and learning rate parameters and then, batch size and memory size. \n",
    "# However, it seems that those two seem to have less importance.\n",
    "\n",
    "epochs_train = 51\n",
    "env = Environment(grid_size=size, max_time=T, temperature=0.3)\n",
    "agent = DQN_FC(size, lr=.1, epsilon = 0.1, memory_size=2000, batch_size = 32)\n",
    "train(agent, env, epochs_train, prefix='fc_train')\n",
    "HTML(display_videos('fc_train50.mp4'))"
   ]
  },
  {
   "cell_type": "markdown",
   "metadata": {
    "colab_type": "text",
    "id": "br5AYMUOVuw9"
   },
   "source": [
    "***\n",
    "***\n",
    "__Question 8__ Implement the DQN training algorithm using a CNN (for example, 2 convolutional layers and one final fully connected layer)."
   ]
  },
  {
   "cell_type": "code",
   "execution_count": null,
   "metadata": {
    "colab": {},
    "colab_type": "code",
    "id": "2HCQpyGAVuxC"
   },
   "outputs": [],
   "source": [
    "class DQN_CNN(DQN):\n",
    "    def __init__(self, *args,lr=0.1,**kwargs):\n",
    "        super(DQN_CNN, self).__init__(*args,**kwargs)\n",
    "        model = Sequential()\n",
    "        model.add(Conv2D(50, (2, 2), activation=\"relu\", input_shape=(5, 5, self.n_state)))\n",
    "        model.add(Conv2D(30, (2, 2), activation=\"relu\"))\n",
    "        model.add(Flatten())\n",
    "        model.add(Dense(4, activation=None))\n",
    "        model.compile(sgd(lr=lr, decay=1e-4, momentum=0.0), \"mse\")\n",
    "        self.model = model"
   ]
  },
  {
   "cell_type": "code",
   "execution_count": 111,
   "metadata": {
    "colab": {
     "base_uri": "https://localhost:8080/",
     "height": 1000
    },
    "colab_type": "code",
    "id": "sZOz5-SsVuxW",
    "outputId": "2532f2a1-c01a-4257-8f21-c23a0c8d9ac7"
   },
   "outputs": [
    {
     "name": "stdout",
     "output_type": "stream",
     "text": [
      "Epoch 000/051 | Loss 0.0019 | Win/lose count 2.0/3.0 (-1.0)\n",
      "Epoch 001/051 | Loss 0.0096 | Win/lose count 4.0/4.0 (0.0)\n",
      "Epoch 002/051 | Loss 0.0102 | Win/lose count 3.5/8.0 (-4.5)\n",
      "Epoch 003/051 | Loss 0.0042 | Win/lose count 3.5/3.0 (0.5)\n",
      "Epoch 004/051 | Loss 0.0020 | Win/lose count 1.5/4.0 (-2.5)\n",
      "Epoch 005/051 | Loss 0.0032 | Win/lose count 6.0/6.0 (0.0)\n",
      "Epoch 006/051 | Loss 0.0039 | Win/lose count 2.5/3.0 (-0.5)\n",
      "Epoch 007/051 | Loss 0.0011 | Win/lose count 3.0/4.0 (-1.0)\n",
      "Epoch 008/051 | Loss 0.0013 | Win/lose count 3.5/3.0 (0.5)\n",
      "Epoch 009/051 | Loss 0.0029 | Win/lose count 3.0/3.0 (0.0)\n",
      "Epoch 010/051 | Loss 0.0016 | Win/lose count 5.5/1.0 (4.5)\n",
      "Epoch 011/051 | Loss 0.0054 | Win/lose count 5.0/5.0 (0.0)\n",
      "Epoch 012/051 | Loss 0.0010 | Win/lose count 2.0/3.0 (-1.0)\n",
      "Epoch 013/051 | Loss 0.0373 | Win/lose count 10.5/4.0 (6.5)\n",
      "Epoch 014/051 | Loss 0.0018 | Win/lose count 8.5/6.0 (2.5)\n",
      "Epoch 015/051 | Loss 0.0048 | Win/lose count 15.0/1.0 (14.0)\n",
      "Epoch 016/051 | Loss 0.0055 | Win/lose count 13.0/1.0 (12.0)\n",
      "Epoch 017/051 | Loss 0.0015 | Win/lose count 8.0/2.0 (6.0)\n",
      "Epoch 018/051 | Loss 0.0020 | Win/lose count 14.0/1.0 (13.0)\n",
      "Epoch 019/051 | Loss 0.0026 | Win/lose count 15.5/3.0 (12.5)\n",
      "Epoch 020/051 | Loss 0.0035 | Win/lose count 10.0/3.0 (7.0)\n",
      "Epoch 021/051 | Loss 0.0031 | Win/lose count 1.5/0 (1.5)\n",
      "Epoch 022/051 | Loss 0.0018 | Win/lose count 11.0/2.0 (9.0)\n",
      "Epoch 023/051 | Loss 0.0029 | Win/lose count 16.5/4.0 (12.5)\n",
      "Epoch 024/051 | Loss 0.0029 | Win/lose count 12.0/0 (12.0)\n",
      "Epoch 025/051 | Loss 0.0614 | Win/lose count 8.0/4.0 (4.0)\n",
      "Epoch 026/051 | Loss 0.0014 | Win/lose count 13.0/4.0 (9.0)\n",
      "Epoch 027/051 | Loss 0.0015 | Win/lose count 19.0/5.0 (14.0)\n",
      "Epoch 028/051 | Loss 0.0602 | Win/lose count 7.5/4.0 (3.5)\n",
      "Epoch 029/051 | Loss 0.0025 | Win/lose count 9.5/1.0 (8.5)\n",
      "Epoch 030/051 | Loss 0.0027 | Win/lose count 10.0/5.0 (5.0)\n",
      "Epoch 031/051 | Loss 0.0023 | Win/lose count 5.0/3.0 (2.0)\n",
      "Epoch 032/051 | Loss 0.0025 | Win/lose count 13.5/1.0 (12.5)\n",
      "Epoch 033/051 | Loss 0.0061 | Win/lose count 3.0/0 (3.0)\n",
      "Epoch 034/051 | Loss 0.0020 | Win/lose count 9.0/1.0 (8.0)\n",
      "Epoch 035/051 | Loss 0.1095 | Win/lose count 10.0/1.0 (9.0)\n",
      "Epoch 036/051 | Loss 0.0504 | Win/lose count 10.5/8.0 (2.5)\n",
      "Epoch 037/051 | Loss 0.0032 | Win/lose count 15.5/5.0 (10.5)\n",
      "Epoch 038/051 | Loss 0.0029 | Win/lose count 12.5/0 (12.5)\n",
      "Epoch 039/051 | Loss 0.0019 | Win/lose count 15.5/1.0 (14.5)\n",
      "Epoch 040/051 | Loss 0.0018 | Win/lose count 8.0/6.0 (2.0)\n",
      "Epoch 041/051 | Loss 0.0022 | Win/lose count 11.0/4.0 (7.0)\n",
      "Epoch 042/051 | Loss 0.0013 | Win/lose count 14.5/2.0 (12.5)\n",
      "Epoch 043/051 | Loss 0.0018 | Win/lose count 11.5/2.0 (9.5)\n",
      "Epoch 044/051 | Loss 0.0020 | Win/lose count 8.5/5.0 (3.5)\n",
      "Epoch 045/051 | Loss 0.0554 | Win/lose count 10.5/4.0 (6.5)\n",
      "Epoch 046/051 | Loss 0.0034 | Win/lose count 3.5/2.0 (1.5)\n",
      "Epoch 047/051 | Loss 0.0897 | Win/lose count 12.5/3.0 (9.5)\n",
      "Epoch 048/051 | Loss 0.0010 | Win/lose count 9.5/3.0 (6.5)\n",
      "Epoch 049/051 | Loss 0.0010 | Win/lose count 12.0/0 (12.0)\n",
      "Epoch 050/051 | Loss 0.0026 | Win/lose count 11.5/4.0 (7.5)\n"
     ]
    },
    {
     "data": {
      "text/html": [
       "<video alt=\"test\" controls>\n",
       "                <source src=\"data:video/mp4;base64,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\" type=\"video/mp4\" />\n",
       "             </video>"
      ],
      "text/plain": [
       "<IPython.core.display.HTML object>"
      ]
     },
     "execution_count": 111,
     "metadata": {
      "tags": []
     },
     "output_type": "execute_result"
    }
   ],
   "source": [
    "epochs_train = 51\n",
    "env = Environment(grid_size=size, max_time=T, temperature=0.3)\n",
    "agent = DQN_CNN(size, lr=.1, epsilon = 0.1, memory_size=2000, batch_size = 32)\n",
    "train(agent,env,epochs_train,prefix='cnn_train')\n",
    "HTML(display_videos('cnn_train100.mp4'))"
   ]
  },
  {
   "cell_type": "markdown",
   "metadata": {
    "colab_type": "text",
    "id": "C2jCYbV6Vuxx"
   },
   "source": [
    "***\n",
    "***\n",
    "__Question 9__ Test both algorithms and compare their performances. Which issue(s) do you observe? Observe also different behaviors by changing the temperature."
   ]
  },
  {
   "cell_type": "code",
   "execution_count": 130,
   "metadata": {
    "colab": {
     "base_uri": "https://localhost:8080/",
     "height": 459
    },
    "colab_type": "code",
    "id": "jR6UYwt6Vux2",
    "outputId": "39406803-dfe0-4edb-90a0-bc0bcd701c3f"
   },
   "outputs": [
    {
     "name": "stdout",
     "output_type": "stream",
     "text": [
      "Test of the CNN\n",
      "Win/lose count 7.0/0. Average score (7.0)\n",
      "Win/lose count 2.0/0. Average score (4.5)\n",
      "Win/lose count 5.5/0. Average score (4.833333333333333)\n",
      "Win/lose count 2.0/1.0. Average score (3.875)\n",
      "Win/lose count 17.5/1.0. Average score (6.4)\n",
      "Win/lose count 8.0/0. Average score (6.666666666666667)\n",
      "Win/lose count 0/0. Average score (5.714285714285714)\n",
      "Win/lose count 4.5/0. Average score (5.5625)\n",
      "Win/lose count 3.5/0. Average score (5.333333333333333)\n",
      "Win/lose count 8.5/0. Average score (5.65)\n",
      "Win/lose count 5.0/0. Average score (5.590909090909091)\n",
      "Final score: 5.590909090909091\n",
      "Test of the FC\n",
      "Win/lose count 1.0/0. Average score (1.0)\n",
      "Win/lose count 3.0/0. Average score (2.0)\n",
      "Win/lose count 4.5/0. Average score (2.8333333333333335)\n",
      "Win/lose count 1.5/0. Average score (2.5)\n",
      "Win/lose count 0/1.0. Average score (1.8)\n",
      "Win/lose count 2.0/0. Average score (1.8333333333333333)\n",
      "Win/lose count 1.0/0. Average score (1.7142857142857142)\n",
      "Win/lose count 1.0/0. Average score (1.625)\n",
      "Win/lose count 8.0/0. Average score (2.3333333333333335)\n",
      "Win/lose count 1.5/0. Average score (2.25)\n",
      "Win/lose count 7.0/0. Average score (2.6818181818181817)\n",
      "Final score: 2.6818181818181817\n"
     ]
    }
   ],
   "source": [
    "env = Environment(grid_size=size, max_time=T,temperature=0.3)\n",
    "agent_cnn = DQN_CNN(size, lr=.1, epsilon = 0.1, memory_size=2000, batch_size = 32)\n",
    "agent_cnn.load(name_weights='cnn_trainmodel.h5',name_model='cnn_trainmodel.json')\n",
    "\n",
    "agent_fc = DQN_FC(size, lr=.1, epsilon = 0.1, memory_size=2000, batch_size = 32)\n",
    "agent_fc.load(name_weights='fc_trainmodel.h5',name_model='fc_trainmodel.json')\n",
    "print('Test of the CNN')\n",
    "test(agent_cnn,env,epochs_test,prefix='cnn_test')\n",
    "print('Test of the FC')\n",
    "test(agent_fc,env,epochs_test,prefix='fc_test')"
   ]
  },
  {
   "cell_type": "code",
   "execution_count": 132,
   "metadata": {
    "colab": {
     "base_uri": "https://localhost:8080/",
     "height": 293
    },
    "colab_type": "code",
    "id": "-sDcSHD_VuyJ",
    "outputId": "c1ce44e6-4e85-41dd-c7f2-3ecf45b45f47"
   },
   "outputs": [
    {
     "data": {
      "text/html": [
       "<video alt=\"test\" controls>\n",
       "                <source src=\"data:video/mp4;base64,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\" type=\"video/mp4\" />\n",
       "             </video>"
      ],
      "text/plain": [
       "<IPython.core.display.HTML object>"
      ]
     },
     "execution_count": 132,
     "metadata": {
      "tags": []
     },
     "output_type": "execute_result"
    }
   ],
   "source": [
    "HTML(display_videos('cnn_test0.mp4'))"
   ]
  },
  {
   "cell_type": "code",
   "execution_count": 133,
   "metadata": {
    "colab": {
     "base_uri": "https://localhost:8080/",
     "height": 293
    },
    "colab_type": "code",
    "id": "ifspFNFEVuyf",
    "outputId": "992eb592-0aca-4fb7-f668-7c731da70c9a"
   },
   "outputs": [
    {
     "data": {
      "text/html": [
       "<video alt=\"test\" controls>\n",
       "                <source src=\"data:video/mp4;base64,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\" type=\"video/mp4\" />\n",
       "             </video>"
      ],
      "text/plain": [
       "<IPython.core.display.HTML object>"
      ]
     },
     "execution_count": 133,
     "metadata": {
      "tags": []
     },
     "output_type": "execute_result"
    }
   ],
   "source": [
    "HTML(display_videos('fc_test0.mp4'))"
   ]
  },
  {
   "cell_type": "markdown",
   "metadata": {
    "colab_type": "text",
    "id": "jzVJeC9DVuy4"
   },
   "source": [
    "The CNN seems to perform better than the FC. In both cases, the algorithm tends to get stuck in loops and doesn't explore a lot.\n",
    "\n",
    "When increasing the temperature, the CNN model is still better than the FC and the score of the agent increases. But also, both models tend to explore more when we increase the temperature.\n",
    "\n"
   ]
  },
  {
   "cell_type": "markdown",
   "metadata": {
    "colab_type": "text",
    "id": "kSiBPaSkVuy8"
   },
   "source": [
    "***\n",
    "\n",
    "The algorithm tends to not explore the map which can be an issue. We propose two ideas in order to encourage exploration:\n",
    "1. Incorporating a decreasing $\\epsilon$-greedy exploration. You can use the method ```set_epsilon```\n",
    "2. Append via the environment a new state that describes if a cell has been visited or not\n",
    "\n",
    "***\n",
    "__Question 10__ Design a new ```train_explore``` function and environment class ```EnvironmentExploring``` to tackle the issue of exploration.\n",
    "\n"
   ]
  },
  {
   "cell_type": "code",
   "execution_count": null,
   "metadata": {
    "colab": {},
    "colab_type": "code",
    "id": "Lg6jeR3fVuzB"
   },
   "outputs": [],
   "source": [
    "def train_explore(agent,env,epoch,prefix=''):\n",
    "    # Number of won games\n",
    "    score = 0\n",
    "    loss = 0\n",
    "    # new parameter to decrease epsilon\n",
    "    alpha = 0.02\n",
    "    for e in range(epoch):\n",
    "        # At each epoch, we restart to a fresh game and get the initial state\n",
    "        state = env.reset()\n",
    "        # This assumes that the games will terminate\n",
    "        game_over = False\n",
    "\n",
    "        win = 0\n",
    "        lose = 0\n",
    "\n",
    "        while not game_over:\n",
    "            # The agent performs an action\n",
    "            action = agent.act(state)\n",
    "                \n",
    "            # Apply an action to the environment, get the next state, the reward\n",
    "            # and if the games end\n",
    "            prev_state = state\n",
    "            state, reward, game_over = env.act(action)\n",
    "\n",
    "            # Update the counters\n",
    "            if reward > 0:\n",
    "                win = win + reward\n",
    "            if reward < 0:\n",
    "                lose = lose -reward\n",
    "\n",
    "            # Apply the reinforcement strategy\n",
    "            loss = agent.reinforce(prev_state, state,  action, reward, game_over)\n",
    "            \n",
    "        # decrease epsilon\n",
    "        agent.set_epsilon(agent.epsilon - alpha)\n",
    "        # Save as a mp4\n",
    "        if e % 10 == 0:\n",
    "            env.draw(prefix+str(e))\n",
    "\n",
    "        # Update stats\n",
    "        score += win-lose\n",
    "\n",
    "        print(\"Epoch {:03d}/{:03d} | Loss {:.4f} | Win/lose count {}/{} ({})\"\n",
    "              .format(e, epoch, loss, win, lose, win-lose))\n",
    "        agent.save(name_weights=prefix+'model.h5',name_model=prefix+'model.json')\n",
    "        \n",
    "class EnvironmentExploring(object):\n",
    "    def __init__(self, grid_size=10, max_time=500, temperature=0.1):\n",
    "        grid_size = grid_size+4\n",
    "        self.grid_size = grid_size\n",
    "        self.max_time = max_time\n",
    "        self.temperature = temperature\n",
    "\n",
    "        #board on which one plays\n",
    "        self.board = np.zeros((grid_size,grid_size))\n",
    "        self.position = np.zeros((grid_size,grid_size))\n",
    "        # grid for exploration malus\n",
    "        self.malus_position = np.zeros((grid_size,grid_size))\n",
    "        # coordinate of the cat\n",
    "        self.x = 0\n",
    "        self.y = 1\n",
    "\n",
    "        # self time\n",
    "        self.t = 0\n",
    "\n",
    "        self.scale=16\n",
    "\n",
    "        self.to_draw = np.zeros((max_time+2, grid_size*self.scale, grid_size*self.scale, 3))\n",
    "\n",
    "\n",
    "    def draw(self,e):\n",
    "        skvideo.io.vwrite(str(e) + '.mp4', self.to_draw)\n",
    "\n",
    "    def get_frame(self,t):\n",
    "        b = np.zeros((self.grid_size,self.grid_size,3))+128\n",
    "        b[self.board>0,0] = 256\n",
    "        b[self.board < 0, 2] = 256\n",
    "        b[self.x,self.y,:]=256\n",
    "        b[-2:,:,:]=0\n",
    "        b[:,-2:,:]=0\n",
    "        b[:2,:,:]=0\n",
    "        b[:,:2,:]=0\n",
    "        \n",
    "        b =  cv2.resize(b, None, fx=self.scale, fy=self.scale, interpolation=cv2.INTER_NEAREST)\n",
    "\n",
    "        self.to_draw[t,:,:,:]=b\n",
    "\n",
    "\n",
    "    def act(self, action, train=False):\n",
    "        \"\"\"This function returns the new state, reward and decides if the\n",
    "        game ends.\"\"\"\n",
    "\n",
    "        self.get_frame(int(self.t))\n",
    "\n",
    "        self.position = np.zeros((self.grid_size, self.grid_size))\n",
    "\n",
    "        self.position[0:2,:]= -1\n",
    "        self.position[:,0:2] = -1\n",
    "        self.position[-2:, :] = -1\n",
    "        self.position[:, -2:] = -1\n",
    "\n",
    "        self.position[self.x, self.y] = 1\n",
    "        if action == 0:\n",
    "            if self.x == self.grid_size-3:\n",
    "                self.x = self.x-1\n",
    "            else:\n",
    "                self.x = self.x + 1\n",
    "        elif action == 1:\n",
    "            if self.x == 2:\n",
    "                self.x = self.x+1\n",
    "            else:\n",
    "                self.x = self.x-1\n",
    "        elif action == 2:\n",
    "            if self.y == self.grid_size - 3:\n",
    "                self.y = self.y - 1\n",
    "            else:\n",
    "                self.y = self.y + 1\n",
    "        elif action == 3:\n",
    "            if self.y == 2:\n",
    "                self.y = self.y + 1\n",
    "            else:\n",
    "                self.y = self.y - 1\n",
    "        else:\n",
    "            RuntimeError('Error: action not recognized')\n",
    "            \n",
    "        reward = 0\n",
    "        # We punish the agent with an exploration malus when the cell has already been visited\n",
    "        if train:\n",
    "            reward = -self.malus_position[self.x, self.y]\n",
    "        self.malus_position[self.x, self.y] = 0.1\n",
    "        \n",
    "        # We give a normal reward\n",
    "        self.t = self.t + 1\n",
    "        reward += self.board[self.x, self.y]\n",
    "        self.board[self.x, self.y] = 0\n",
    "        game_over = self.t > self.max_time\n",
    "        state = np.concatenate((self.malus_position.reshape(self.grid_size, self.grid_size,1),\n",
    "                                        self.board.reshape(self.grid_size, self.grid_size,1),\n",
    "                                self.position.reshape(self.grid_size, self.grid_size,1)),axis=2)\n",
    "        state = state[self.x-2:self.x+3,self.y-2:self.y+3,:]\n",
    "\n",
    "        return state, reward, game_over\n",
    "\n",
    "    def reset(self):\n",
    "        \"\"\"This function resets the game and returns the initial state\"\"\"\n",
    "\n",
    "        self.x = np.random.randint(3, self.grid_size-3, size=1)[0]\n",
    "        self.y = np.random.randint(3, self.grid_size-3, size=1)[0]\n",
    "\n",
    "\n",
    "        bonus = 0.5*np.random.binomial(1,self.temperature,size=self.grid_size**2)\n",
    "        bonus = bonus.reshape(self.grid_size,self.grid_size)\n",
    "\n",
    "        malus = -1.0*np.random.binomial(1,self.temperature,size=self.grid_size**2)\n",
    "        malus = malus.reshape(self.grid_size, self.grid_size)\n",
    "\n",
    "        self.to_draw = np.zeros((self.max_time+2, self.grid_size*self.scale, self.grid_size*self.scale, 3))\n",
    "\n",
    "\n",
    "        malus[bonus>0]=0\n",
    "\n",
    "        self.board = bonus + malus\n",
    "\n",
    "        self.position = np.zeros((self.grid_size, self.grid_size))\n",
    "        self.position[0:2,:]= -1\n",
    "        self.position[:,0:2] = -1\n",
    "        self.position[-2:, :] = -1\n",
    "        self.position[:, -2:] = -1\n",
    "        self.board[self.x,self.y] = 0\n",
    "        self.t = 0\n",
    "\n",
    "        state = np.concatenate((self.malus_position.reshape(self.grid_size, self.grid_size,1),\n",
    "                                        self.board.reshape(self.grid_size, self.grid_size,1),\n",
    "                                self.position.reshape(self.grid_size, self.grid_size,1)),axis=2)\n",
    "\n",
    "        state = state[self.x - 2:self.x + 3, self.y - 2:self.y + 3, :]\n",
    "        return state\n",
    "    "
   ]
  },
  {
   "cell_type": "code",
   "execution_count": 135,
   "metadata": {
    "colab": {
     "base_uri": "https://localhost:8080/",
     "height": 1000
    },
    "colab_type": "code",
    "id": "M-jtb9tdVuzT",
    "outputId": "41bdb2e3-667f-425e-e769-d174d977c96c"
   },
   "outputs": [
    {
     "name": "stdout",
     "output_type": "stream",
     "text": [
      "Epoch 000/051 | Loss 0.0171 | Win/lose count 6.5/15.0 (-8.5)\n",
      "Epoch 001/051 | Loss 0.0099 | Win/lose count 10.5/16.0 (-5.5)\n",
      "Epoch 002/051 | Loss 0.0070 | Win/lose count 14.0/20.0 (-6.0)\n",
      "Epoch 003/051 | Loss 0.0029 | Win/lose count 15.0/16.0 (-1.0)\n",
      "Epoch 004/051 | Loss 0.0025 | Win/lose count 12.5/15.0 (-2.5)\n",
      "Epoch 005/051 | Loss 0.0078 | Win/lose count 11.5/18.0 (-6.5)\n",
      "Epoch 006/051 | Loss 0.0031 | Win/lose count 9.0/9.0 (0.0)\n",
      "Epoch 007/051 | Loss 0.0041 | Win/lose count 8.0/14.0 (-6.0)\n",
      "Epoch 008/051 | Loss 0.0676 | Win/lose count 8.0/4.0 (4.0)\n",
      "Epoch 009/051 | Loss 0.0052 | Win/lose count 17.5/22.0 (-4.5)\n",
      "Epoch 010/051 | Loss 0.0030 | Win/lose count 11.0/13.0 (-2.0)\n",
      "Epoch 011/051 | Loss 0.0029 | Win/lose count 9.0/6.0 (3.0)\n",
      "Epoch 012/051 | Loss 0.0034 | Win/lose count 10.5/7.0 (3.5)\n",
      "Epoch 013/051 | Loss 0.0023 | Win/lose count 12.0/10.0 (2.0)\n",
      "Epoch 014/051 | Loss 0.0017 | Win/lose count 10.5/13.0 (-2.5)\n",
      "Epoch 015/051 | Loss 0.0027 | Win/lose count 19.5/11.0 (8.5)\n",
      "Epoch 016/051 | Loss 0.0021 | Win/lose count 11.5/11.0 (0.5)\n",
      "Epoch 017/051 | Loss 0.0013 | Win/lose count 10.5/6.0 (4.5)\n",
      "Epoch 018/051 | Loss 0.1295 | Win/lose count 12.0/10.0 (2.0)\n",
      "Epoch 019/051 | Loss 0.0014 | Win/lose count 7.0/5.0 (2.0)\n",
      "Epoch 020/051 | Loss 0.0662 | Win/lose count 12.0/12.0 (0.0)\n",
      "Epoch 021/051 | Loss 0.0013 | Win/lose count 2.0/12.0 (-10.0)\n",
      "Epoch 022/051 | Loss 0.0043 | Win/lose count 9.0/9.0 (0.0)\n",
      "Epoch 023/051 | Loss 0.0108 | Win/lose count 9.0/8.0 (1.0)\n",
      "Epoch 024/051 | Loss 0.0010 | Win/lose count 15.0/10.0 (5.0)\n",
      "Epoch 025/051 | Loss 0.0012 | Win/lose count 9.5/7.0 (2.5)\n",
      "Epoch 026/051 | Loss 0.0017 | Win/lose count 9.5/9.0 (0.5)\n",
      "Epoch 027/051 | Loss 0.0082 | Win/lose count 6.0/3.0 (3.0)\n",
      "Epoch 028/051 | Loss 0.0057 | Win/lose count 12.5/8.0 (4.5)\n",
      "Epoch 029/051 | Loss 0.0007 | Win/lose count 15.5/6.0 (9.5)\n",
      "Epoch 030/051 | Loss 0.0011 | Win/lose count 17.0/12.0 (5.0)\n",
      "Epoch 031/051 | Loss 0.0011 | Win/lose count 9.0/9.0 (0.0)\n",
      "Epoch 032/051 | Loss 0.0008 | Win/lose count 13.5/5.0 (8.5)\n",
      "Epoch 033/051 | Loss 0.0016 | Win/lose count 5.0/6.0 (-1.0)\n",
      "Epoch 034/051 | Loss 0.1695 | Win/lose count 6.5/1.0 (5.5)\n",
      "Epoch 035/051 | Loss 0.0580 | Win/lose count 11.0/8.0 (3.0)\n",
      "Epoch 036/051 | Loss 0.0584 | Win/lose count 8.5/10.0 (-1.5)\n",
      "Epoch 037/051 | Loss 0.0011 | Win/lose count 11.5/4.0 (7.5)\n",
      "Epoch 038/051 | Loss 0.0008 | Win/lose count 12.5/9.0 (3.5)\n",
      "Epoch 039/051 | Loss 0.0012 | Win/lose count 11.0/8.0 (3.0)\n",
      "Epoch 040/051 | Loss 0.0008 | Win/lose count 8.0/5.0 (3.0)\n",
      "Epoch 041/051 | Loss 0.0032 | Win/lose count 15.0/4.0 (11.0)\n",
      "Epoch 042/051 | Loss 0.0019 | Win/lose count 6.5/3.0 (3.5)\n",
      "Epoch 043/051 | Loss 0.0076 | Win/lose count 14.5/4.0 (10.5)\n",
      "Epoch 044/051 | Loss 0.0058 | Win/lose count 10.0/1.0 (9.0)\n",
      "Epoch 045/051 | Loss 0.0610 | Win/lose count 13.5/3.0 (10.5)\n",
      "Epoch 046/051 | Loss 0.0014 | Win/lose count 20.5/1.0 (19.5)\n",
      "Epoch 047/051 | Loss 0.0013 | Win/lose count 18.5/6.0 (12.5)\n",
      "Epoch 048/051 | Loss 0.0015 | Win/lose count 11.0/0 (11.0)\n",
      "Epoch 049/051 | Loss 0.0006 | Win/lose count 18.5/3.0 (15.5)\n",
      "Epoch 050/051 | Loss 0.0605 | Win/lose count 16.5/0 (16.5)\n"
     ]
    },
    {
     "data": {
      "text/html": [
       "<video alt=\"test\" controls>\n",
       "                <source src=\"data:video/mp4;base64,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\" type=\"video/mp4\" />\n",
       "             </video>"
      ],
      "text/plain": [
       "<IPython.core.display.HTML object>"
      ]
     },
     "execution_count": 135,
     "metadata": {
      "tags": []
     },
     "output_type": "execute_result"
    }
   ],
   "source": [
    "# Training\n",
    "env = EnvironmentExploring(grid_size=size, max_time=T, temperature=0.3)\n",
    "agent = DQN_CNN(size, lr=.1, epsilon = 1, memory_size=2000, batch_size = 32,n_state=3)\n",
    "train_explore(agent, env, epochs_train, prefix='cnn_train_explore')\n",
    "HTML(display_videos('cnn_train_explore10.mp4'))"
   ]
  },
  {
   "cell_type": "code",
   "execution_count": 139,
   "metadata": {
    "colab": {
     "base_uri": "https://localhost:8080/",
     "height": 497
    },
    "colab_type": "code",
    "id": "qVuPpBdkVuzm",
    "outputId": "2069400b-842d-441d-d5da-f297c26fc698"
   },
   "outputs": [
    {
     "name": "stdout",
     "output_type": "stream",
     "text": [
      "Win/lose count 2.5/0. Average score (2.5)\n",
      "Win/lose count 3.0/0. Average score (2.75)\n",
      "Win/lose count 9.5/0. Average score (5.0)\n",
      "Win/lose count 6.5/0. Average score (5.375)\n",
      "Win/lose count 0.5/0. Average score (4.4)\n",
      "Win/lose count 4.5/0. Average score (4.416666666666667)\n",
      "Win/lose count 10.5/0. Average score (5.285714285714286)\n",
      "Win/lose count 6.0/0. Average score (5.375)\n",
      "Win/lose count 3.5/0. Average score (5.166666666666667)\n",
      "Win/lose count 9.0/0. Average score (5.55)\n",
      "Win/lose count 4.5/0. Average score (5.454545454545454)\n",
      "Final score: 5.454545454545454\n"
     ]
    },
    {
     "data": {
      "text/html": [
       "<video alt=\"test\" controls>\n",
       "                <source src=\"data:video/mp4;base64,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\" type=\"video/mp4\" />\n",
       "             </video>"
      ],
      "text/plain": [
       "<IPython.core.display.HTML object>"
      ]
     },
     "execution_count": 139,
     "metadata": {
      "tags": []
     },
     "output_type": "execute_result"
    }
   ],
   "source": [
    "# Evaluation\n",
    "test(agent,env,epochs_test,prefix='cnn_test_explore')\n",
    "HTML(display_videos('cnn_test_explore10.mp4'))"
   ]
  },
  {
   "cell_type": "markdown",
   "metadata": {
    "colab_type": "text",
    "id": "blfhePIfVuz5"
   },
   "source": [
    "***\n",
    "***\n",
    "__BONUS question__ Use the expert DQN from the previous question to generate some winning games. Train a model that mimicks its behavior. Compare the performances."
   ]
  },
  {
   "cell_type": "markdown",
   "metadata": {
    "colab_type": "text",
    "id": "v9XY5mbxVuz-"
   },
   "source": []
  },
  {
   "cell_type": "markdown",
   "metadata": {
    "colab_type": "text",
    "id": "I24s1j0xVu0N"
   },
   "source": [
    "***"
   ]
  }
 ],
 "metadata": {
  "colab": {
   "collapsed_sections": [],
   "name": "DQN_project_MVA.ipynb",
   "provenance": []
  },
  "kernelspec": {
   "display_name": "Python 3",
   "language": "python",
   "name": "python3"
  },
  "language_info": {
   "codemirror_mode": {
    "name": "ipython",
    "version": 3
   },
   "file_extension": ".py",
   "mimetype": "text/x-python",
   "name": "python",
   "nbconvert_exporter": "python",
   "pygments_lexer": "ipython3",
   "version": "3.7.4"
  }
 },
 "nbformat": 4,
 "nbformat_minor": 4
}
