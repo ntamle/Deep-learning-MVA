{
 "cells": [
  {
   "cell_type": "markdown",
   "metadata": {},
   "source": [
    "# Deep Learning for NLP - Project"
   ]
  },
  {
   "cell_type": "markdown",
   "metadata": {},
   "source": [
    "RULES:\n",
    "\n",
    "* Do not create any additional cell\n",
    "\n",
    "* Fill in the blanks\n",
    "\n",
    "* All cells should be runnable (modulo trivial compatibility bugs that we'd fix)\n",
    "\n",
    "* 4 / 20 points will be allocated to the clarity of your code\n",
    "\n",
    "* Efficient code will have a bonus\n",
    "\n",
    "DELIVERABLE:\n",
    "\n",
    "* the pdf with your answers\n",
    "* this notebook\n",
    "* the predictions of the SST test set\n",
    "\n",
    "DO NOT INCLUDE THE DATASETS IN THE DELIVERABLE.."
   ]
  },
  {
   "cell_type": "code",
   "execution_count": 1,
   "metadata": {
    "collapsed": false,
    "jupyter": {
     "outputs_hidden": false
    }
   },
   "outputs": [],
   "source": [
    "# Python 3.6 or above is required\n",
    "from collections import defaultdict\n",
    "import gzip\n",
    "import numpy as np\n",
    "from pathlib import Path\n",
    "from urllib.request import urlretrieve"
   ]
  },
  {
   "cell_type": "code",
   "execution_count": 2,
   "metadata": {},
   "outputs": [],
   "source": [
    "PATH_TO_DATA = Path('/home/tam/data/')\n",
    "# Download word vectors, might take a few minutes and about ~3GB of storage space\n",
    "en_embeddings_path = PATH_TO_DATA / 'cc.en.300.vec.gz'\n",
    "if not en_embeddings_path.exists():\n",
    "    urlretrieve('https://dl.fbaipublicfiles.com/fasttext/vectors-crawl/cc.en.300.vec.gz', en_embeddings_path)\n",
    "fr_embeddings_path = PATH_TO_DATA / 'cc.fr.300.vec.gz'\n",
    "if not fr_embeddings_path.exists():\n",
    "    urlretrieve('https://dl.fbaipublicfiles.com/fasttext/vectors-crawl/cc.fr.300.vec.gz', fr_embeddings_path)"
   ]
  },
  {
   "cell_type": "markdown",
   "metadata": {},
   "source": [
    "# 1) Monolingual (English) word embeddings "
   ]
  },
  {
   "cell_type": "code",
   "execution_count": 3,
   "metadata": {},
   "outputs": [],
   "source": [
    "class Word2Vec():\n",
    "\n",
    "    def __init__(self, filepath, vocab_size=50000):\n",
    "        self.words, self.embeddings = self.load_wordvec(filepath, vocab_size)\n",
    "        # Mappings for O(1) retrieval:\n",
    "        self.word2id = {word: idx for idx, word in enumerate(self.words)}\n",
    "        self.id2word = {idx: word for idx, word in enumerate(self.words)}\n",
    "    \n",
    "    def load_wordvec(self, filepath, vocab_size):\n",
    "        assert str(filepath).endswith('.gz')\n",
    "        words = []\n",
    "        embeddings = []\n",
    "        with gzip.open(filepath, 'rt') as f:  # Read compressed file directly\n",
    "            next(f)  # Skip header\n",
    "            for i, line in enumerate(f):\n",
    "                word, vec = line.split(' ', 1)\n",
    "                words.append(word)\n",
    "                embeddings.append(np.fromstring(vec, sep=' '))\n",
    "                if i == (vocab_size - 1):\n",
    "                    break\n",
    "        print('Loaded %s pretrained word vectors' % (len(words)))\n",
    "        return words, np.vstack(embeddings)\n",
    "    \n",
    "    def encode(self, word):\n",
    "        # Returns the 1D embedding of a given word\n",
    "        idx = self.word2id.get(word, -1)\n",
    "        if idx==-1:\n",
    "            return np.zeros(300)\n",
    "        else:\n",
    "            vec = self.embeddings[idx]\n",
    "            return vec\n",
    "    \n",
    "    def score(self, word1, word2):\n",
    "        # Return the cosine similarity: use np.dot & np.linalg.norm\n",
    "        vec1 = self.encode(word1)\n",
    "        vec2 = self.encode(word2)\n",
    "        cos_sim = np.dot(vec1, vec2)\n",
    "        cos_sim = cos_sim / (np.linalg.norm(vec1) * np.linalg.norm(vec2))\n",
    "        return cos_sim\n",
    "    \n",
    "    def most_similar(self, word, k=5):\n",
    "        # Returns the k most similar words: self.score & np.argsort \n",
    "        scores = [self.score(word, self.id2word[i]) for i in range(len(self.words))]\n",
    "        indexes = list(np.flip(np.argsort(scores)))\n",
    "        return [self.id2word[i] for i in indexes[:k]]"
   ]
  },
  {
   "cell_type": "code",
   "execution_count": 4,
   "metadata": {
    "collapsed": false,
    "jupyter": {
     "outputs_hidden": false
    }
   },
   "outputs": [
    {
     "name": "stdout",
     "output_type": "stream",
     "text": [
      "Loaded 50000 pretrained word vectors\n",
      "cat tree 0.26449754661654756\n",
      "cat dog 0.7078641298542564\n",
      "cat pet 0.6753313359976382\n",
      "Paris France 0.6892958925806543\n",
      "Paris Germany 0.4051242286737549\n",
      "Paris baguette 0.29399958277802224\n",
      "Paris donut -0.006588507552348003\n",
      "['cat', 'cats', 'kitty', 'kitten', 'feline']\n",
      "['dog', 'dogs', 'puppy', 'pup', 'canine']\n",
      "['dogs', 'dog', 'cats', 'puppies', 'Dogs']\n",
      "['Paris', 'France', 'Parisian', 'Marseille', 'Brussels']\n",
      "['Germany', 'Austria', 'Europe', 'Berlin', 'Hamburg']\n"
     ]
    }
   ],
   "source": [
    "word2vec = Word2Vec(en_embeddings_path, vocab_size=50000)\n",
    "\n",
    "# You will be evaluated on the output of the following:\n",
    "for word1, word2 in zip(('cat', 'cat', 'cat', 'Paris', 'Paris', 'Paris', 'Paris'), ('tree', 'dog', 'pet', 'France', 'Germany', 'baguette', 'donut')):\n",
    "    print(word1, word2, word2vec.score(word1, word2))\n",
    "for word in ['cat', 'dog', 'dogs', 'Paris', 'Germany']:\n",
    "    print(word2vec.most_similar(word))"
   ]
  },
  {
   "cell_type": "code",
   "execution_count": 15,
   "metadata": {
    "collapsed": false,
    "jupyter": {
     "outputs_hidden": false
    }
   },
   "outputs": [],
   "source": [
    "class BagOfWords():\n",
    "    \n",
    "    def __init__(self, word2vec):\n",
    "        self.word2vec = word2vec\n",
    "    \n",
    "    def build_idf(self, sentences):\n",
    "        # build the idf dictionary: associate each word to its idf value\n",
    "        # -> idf = {word: idf_value, ...}\n",
    "        idf = {}\n",
    "        D = len(sentences)\n",
    "        for sentence in sentences:\n",
    "            for word in set(sentence.split(' ')):\n",
    "                idf[word] = idf.get(word, 0) + 1\n",
    "                \n",
    "        for word in idf.keys():\n",
    "            idf[word] = np.log(D / (idf[word]))\n",
    "\n",
    "        return idf\n",
    "    \n",
    "    def encode(self, sentence, idf=None):\n",
    "        # Takes a sentence as input, returns the sentence embedding\n",
    "        if idf is None:\n",
    "            words_vec = np.array([word2vec.encode(word) for word in sentence.split(' ')])\n",
    "            return words_vec.mean(axis=0)\n",
    "        else:\n",
    "            # idf-weighted mean of word vectors\n",
    "            words_vec = np.array([word2vec.encode(word) for word in sentence.split(' ')])\n",
    "            idf_weights = np.array([idf[word] for word in sentence.split(' ')])\n",
    "            words_vec = np.average(words_vec, weights=idf_weights, axis=0)\n",
    "            return words_vec\n",
    "\n",
    "    def score(self, sentence1, sentence2, idf=None):\n",
    "        # cosine similarity: use np.dot & np.linalg.norm \n",
    "        vec1 = self.encode(sentence1, idf)\n",
    "        vec2 = self.encode(sentence2, idf)\n",
    "        cos_sim = np.dot(vec1, vec2)\n",
    "        cos_sim = cos_sim / (np.linalg.norm(vec1) * np.linalg.norm(vec2))\n",
    "        return cos_sim\n",
    "    \n",
    "    def most_similar(self, sentence, sentences, idf=None, k=5):\n",
    "        # Return most similar sentences\n",
    "        scores = [self.score(sentence, sentence_) for sentence_ in sentences]\n",
    "        indexes = np.flip(np.argsort(scores))\n",
    "        return [sentences[i] for i in indexes[:k]]"
   ]
  },
  {
   "cell_type": "code",
   "execution_count": 18,
   "metadata": {
    "collapsed": false,
    "jupyter": {
     "outputs_hidden": false
    }
   },
   "outputs": [
    {
     "name": "stdout",
     "output_type": "stream",
     "text": [
      "Loaded 50000 pretrained word vectors\n",
      "\n",
      "\tAverage of word embeddings\n",
      "1 man singing and 1 man playing a saxophone in a concert . \n",
      "10 people venture out to go crosscountry skiing . \n",
      "0.7065220648251476\n",
      "1 smiling african american boy . \n",
      "1) 1 smiling african american boy . \n",
      "2) 2 woman dancing while pointing . \n",
      "3) 5 women and 1 man are smiling for the camera . \n",
      "4) a small boy following 4 geese . \n",
      "5) 2 female babies eating chips . \n",
      "\n",
      "\tidf weighted average of word embeddings\n",
      "1 man singing and 1 man playing a saxophone in a concert . \n",
      "10 people venture out to go crosscountry skiing . \n",
      "0.6400799939346385\n",
      "1 smiling african american boy . \n",
      "1) 1 smiling african american boy . \n",
      "2) 2 woman dancing while pointing . \n",
      "3) 5 women and 1 man are smiling for the camera . \n",
      "4) a small boy following 4 geese . \n",
      "5) 2 female babies eating chips . \n"
     ]
    }
   ],
   "source": [
    "word2vec = Word2Vec(en_embeddings_path, vocab_size=50000)\n",
    "sentence2vec = BagOfWords(word2vec)\n",
    "\n",
    "# Load sentences in \"PATH_TO_DATA/sentences.txt\"\n",
    "filepath = PATH_TO_DATA / 'sentences.txt'\n",
    "with open(filepath, 'r') as f:\n",
    "    sentences = [line.strip('\\n') for line in f]\n",
    "\n",
    "\n",
    "# You will be evaluated on the output of the following:\n",
    "print('\\n\\tAverage of word embeddings')\n",
    "sentence1 = sentences[7]\n",
    "sentence2 = sentences[13]\n",
    "print(sentence1)\n",
    "print(sentence2)\n",
    "print(sentence2vec.score(sentence1, sentence2, idf=None))\n",
    "sentence = sentences[10]\n",
    "similar_sentences = sentence2vec.most_similar(sentence, sentences)  # BagOfWords-mean\n",
    "print(sentence)\n",
    "for i, sentence_ in enumerate(similar_sentences):\n",
    "    print(str(i+1) + ')', sentence_)\n",
    "\n",
    "# Build idf scores for each word\n",
    "idf = sentence2vec.build_idf(sentences)\n",
    "\n",
    "print('\\n\\tidf weighted average of word embeddings')\n",
    "print(sentence1)\n",
    "print(sentence2)\n",
    "print(sentence2vec.score(sentence1, sentence2, idf))\n",
    "similar_sentences = sentence2vec.most_similar(sentence, sentences, idf)  # BagOfWords-idf\n",
    "print(sentence)\n",
    "for i, sentence_ in enumerate(similar_sentences):\n",
    "    print(str(i+1) + ')', sentence_)"
   ]
  },
  {
   "cell_type": "markdown",
   "metadata": {},
   "source": [
    "# 2) Multilingual (English-French) word embeddings"
   ]
  },
  {
   "cell_type": "markdown",
   "metadata": {},
   "source": [
    "Let's consider a bilingual dictionary of size V_a (e.g French-English).\n",
    "\n",
    "Let's define **X** and **Y** the **French** and **English** matrices.\n",
    "\n",
    "They contain the embeddings associated to the words in the bilingual dictionary.\n",
    "\n",
    "We want to find a **mapping W** that will project the source word space (e.g French) to the target word space (e.g English).\n",
    "\n",
    "Procrustes : **W\\* = argmin || W.X - Y ||  s.t  W^T.W = Id**\n",
    "has a closed form solution:\n",
    "**W = U.V^T  where  U.Sig.V^T = SVD(Y.X^T)**\n",
    "\n",
    "In what follows, you are asked to: "
   ]
  },
  {
   "cell_type": "code",
   "execution_count": 19,
   "metadata": {},
   "outputs": [],
   "source": [
    "class MultilingualWordAligner:\n",
    "    \n",
    "    def __init__(self, fr_word2vec, en_word2vec):\n",
    "        self.fr_word2vec = fr_word2vec\n",
    "        self.en_word2vec = en_word2vec\n",
    "        self.aligned_fr_embeddings = self.get_aligned_fr_embeddings()\n",
    "        \n",
    "    def get_aligned_fr_embeddings(self):\n",
    "        # 1 - Get words that appear in both vocabs (= identical character strings)\n",
    "        #     Use it to create the matrix X (emb_dim, vocab_size) and Y (emb_dim, vocab_size) (of embeddings for these words)\n",
    "        fr_en_words = list(set(self.fr_word2vec.words).intersection(self.en_word2vec.words))\n",
    "        \n",
    "        # embedding matrix for french words\n",
    "        X = np.vstack([fr_word2vec.encode(word) for word in fr_en_words]).T\n",
    "        # embedding matrix for english words\n",
    "        Y = np.vstack([en_word2vec.encode(word) for word in fr_en_words]).T\n",
    "        \n",
    "        assert X.shape[0] == 300 and Y.shape[0] == 300\n",
    "        # 2 - Solve the Procrustes using the numpy package and: np.linalg.svd() and get the optimal W\n",
    "        #     Now self.fr_word2vec.embeddings * W.transpose() is in the same space as en_word2vec.embeddings\n",
    "        M = np.dot(Y, X.T)\n",
    "        u, s, vh = np.linalg.svd(M)\n",
    "        W = np.dot(u, vh)\n",
    "        assert W.shape == (300, 300)\n",
    "        return np.matmul(fr_word2vec.embeddings, W.transpose())\n",
    "        \n",
    "    def get_closest_english_words(self, fr_word, k=3):\n",
    "        # 3 - Return the top k English nearest neighbors to the input French word\n",
    "        idx = self.fr_word2vec.word2id[fr_word]\n",
    "        \n",
    "        # map the french word to the english space\n",
    "        similarity = self.get_aligned_fr_embeddings()\n",
    "        fr_vec = similarity[idx]\n",
    "        \n",
    "        similarity = self.en_word2vec.embeddings\n",
    "        # compute the norms\n",
    "        norm = np.linalg.norm(similarity, axis=1)\n",
    "        fr_word_norm = np.linalg.norm(fr_vec)\n",
    "        norm = norm * fr_word_norm\n",
    "        # then the cosine similarity\n",
    "        similarity = np.dot(similarity, fr_vec)\n",
    "        similarity = similarity / norm\n",
    "        \n",
    "        indexes = np.flip(np.argsort(similarity))\n",
    "        return [self.en_word2vec.words[i] for i in indexes[:k]]"
   ]
  },
  {
   "cell_type": "code",
   "execution_count": 20,
   "metadata": {},
   "outputs": [
    {
     "name": "stdout",
     "output_type": "stream",
     "text": [
      "Loaded 50000 pretrained word vectors\n",
      "Loaded 50000 pretrained word vectors\n",
      "----------\n",
      "fr: \"chat\"\n",
      "en: \"cat\"\n",
      "en: \"kitten\"\n",
      "en: \"kitty\"\n",
      "----------\n",
      "fr: \"chien\"\n",
      "en: \"dog\"\n",
      "en: \"cat\"\n",
      "en: \"pet\"\n",
      "----------\n",
      "fr: \"voiture\"\n",
      "en: \"car\"\n",
      "en: \"vehicle\"\n",
      "en: \"automobile\"\n",
      "----------\n",
      "fr: \"zut\"\n",
      "en: \"oops\"\n",
      "en: \"Ah\"\n",
      "en: \"ah\"\n"
     ]
    }
   ],
   "source": [
    "fr_word2vec = Word2Vec(fr_embeddings_path, vocab_size=50000)\n",
    "en_word2vec = Word2Vec(en_embeddings_path, vocab_size=50000)\n",
    "multilingual_word_aligner = MultilingualWordAligner(fr_word2vec, en_word2vec)\n",
    "\n",
    "# You will be evaluated on the output of the following:\n",
    "fr_words = ['chat', 'chien', 'voiture', 'zut']\n",
    "k = 3\n",
    "for fr_word in fr_words:\n",
    "    print('-' * 10)\n",
    "    print(f'fr: \"{fr_word}\"')\n",
    "    en_words = multilingual_word_aligner.get_closest_english_words(fr_word, k=3)\n",
    "    for en_word in en_words:\n",
    "        print(f'en: \"{en_word}\"')"
   ]
  },
  {
   "cell_type": "markdown",
   "metadata": {},
   "source": [
    "If you want to dive deeper on this subject: https://github.com/facebookresearch/MUSE"
   ]
  },
  {
   "cell_type": "markdown",
   "metadata": {},
   "source": [
    "# 3) Sentence classification with BoV and scikit-learn"
   ]
  },
  {
   "cell_type": "code",
   "execution_count": 21,
   "metadata": {},
   "outputs": [
    {
     "name": "stdout",
     "output_type": "stream",
     "text": [
      "Loaded 50000 pretrained word vectors\n"
     ]
    }
   ],
   "source": [
    "# 1 - Load train/dev/test of Stanford Sentiment TreeBank (SST)\n",
    "#     (https://nlp.stanford.edu/~socherr/EMNLP2013_RNTN.pdf)\n",
    "train_filepath = PATH_TO_DATA / 'SST/stsa.fine.train'\n",
    "dev_filepath = PATH_TO_DATA / 'SST/stsa.fine.dev'\n",
    "test_filepath = PATH_TO_DATA / 'SST/stsa.fine.test.X'\n",
    "\n",
    "word2vec = Word2Vec(en_embeddings_path, vocab_size=50000)\n",
    "\n",
    "# train sentences\n",
    "train_raw = []\n",
    "Y_train = []\n",
    "with open(train_filepath, 'r') as f:\n",
    "    for line in f:\n",
    "        Y_train.append(int(line[0]))\n",
    "        train_raw.append(line[2:])\n",
    "\n",
    "# dev sentences\n",
    "dev_raw = []\n",
    "Y_dev = []\n",
    "with open(dev_filepath, 'r') as f:\n",
    "    for line in f:\n",
    "        Y_dev.append(int(line[0]))\n",
    "        dev_raw.append(line[2:])\n",
    "\n",
    "        # test sentences\n",
    "test_raw = []\n",
    "with open(test_filepath, 'r') as f:\n",
    "    for line in f:\n",
    "        test_raw.append(line)"
   ]
  },
  {
   "cell_type": "code",
   "execution_count": 10,
   "metadata": {},
   "outputs": [],
   "source": [
    "# 2 - Encode sentences with the BoV model above\n",
    "\n",
    "bov = BagOfWords(word2vec)\n",
    "\n",
    "idf_train = bov.build_idf(train_raw)\n",
    "train_idf = np.vstack([bov.encode(s, idf_train) for s in train_raw])\n",
    "train = np.vstack([bov.encode(s, None) for s in train_raw])\n",
    "\n",
    "idf_dev = bov.build_idf(dev_raw)\n",
    "dev_idf = np.vstack([bov.encode(s, idf_dev) for s in dev_raw])\n",
    "dev =  np.vstack([bov.encode(s, None) for s in dev_raw])\n",
    "\n",
    "idf_test = bov.build_idf(test_raw)\n",
    "test_idf = np.vstack([bov.encode(s, idf_test) for s in test_raw])\n",
    "test = np.vstack([bov.encode(s, None) for s in test_raw])"
   ]
  },
  {
   "cell_type": "code",
   "execution_count": 12,
   "metadata": {},
   "outputs": [
    {
     "data": {
      "image/png": "[encoded data removed]",
      "text/plain": [
       "<Figure size 720x360 with 1 Axes>"
      ]
     },
     "metadata": {
      "needs_background": "light"
     },
     "output_type": "display_data"
    },
    {
     "name": "stdout",
     "output_type": "stream",
     "text": [
      "Accuracy on train set for the best parameter: 0.45049157303370785\n",
      "Accuracy on train set for the best parameter, with idf: 0.45482209737827717\n",
      "Accuracy on dev set for the best parameter: 0.4014532243415077\n",
      "Accuracy on dev set for the best parameter, with idf: 0.40236148955495005\n",
      "Best C no idf:6.67\n",
      "Best C with idf:4.45\n"
     ]
    }
   ],
   "source": [
    "# 3 - Learn Logistic Regression on top of sentence embeddings using scikit-learn\n",
    "#     (consider tuning the L2 regularization on the dev set)\n",
    "#     In the paper, the accuracy for average of word vectors is 32.7%\n",
    "#     (VecAvg, table 1, https://nlp.stanford.edu/~socherr/EMNLP2013_RNTN.pdf)\n",
    "from sklearn.linear_model import LogisticRegression\n",
    "import matplotlib.pyplot as plt \n",
    "\n",
    "alpha = np.linspace(10**(-2), 10, 10)\n",
    "\n",
    "# no idf\n",
    "acc_train, acc_dev = [], []\n",
    "for a in alpha:\n",
    "    clf = LogisticRegression(penalty=\"l2\", C=a, solver='liblinear', multi_class='ovr')\n",
    "    clf.fit(train, Y_train)\n",
    "    acc_train.append(clf.score(train, Y_train))\n",
    "    acc_dev.append(clf.score(dev, Y_dev))\n",
    "\n",
    "# idf\n",
    "acc_train_idf, acc_dev_idf = [], []\n",
    "for a in alpha:\n",
    "    clf = LogisticRegression(penalty=\"l2\", C=a, solver='liblinear', multi_class='ovr')\n",
    "    clf.fit(train_idf, Y_train)\n",
    "    acc_train_idf.append(clf.score(train_idf, Y_train))\n",
    "    acc_dev_idf.append(clf.score(dev_idf, Y_dev))\n",
    "    \n",
    "plt.figure(figsize=(10,5))\n",
    "plt.plot(alpha, acc_train, '.-', label='Train set, no idf')\n",
    "plt.plot(alpha, acc_train_idf, '.-', label='Train set, with idf')\n",
    "plt.plot(alpha, acc_dev, '.-', label='Dev set, no idf')\n",
    "plt.plot(alpha, acc_dev_idf, '.-', label='Dev set, with idf')\n",
    "plt.legend(loc='lower right')\n",
    "plt.xlabel(\"Regularization parameter\")\n",
    "plt.ylabel(\"Accuracy\")\n",
    "plt.show()\n",
    "\n",
    "a_best = alpha[np.argmax(acc_dev)]\n",
    "a_best_idf = alpha[np.argmax(acc_dev_idf)]\n",
    "clf = LogisticRegression(penalty=\"l2\", C=a_best, solver='liblinear', multi_class='ovr')\n",
    "clf_idf = LogisticRegression(penalty=\"l2\", C=a_best_idf, solver='liblinear', multi_class='ovr')\n",
    "clf.fit(train, Y_train)\n",
    "clf_idf.fit(train_idf, Y_train)\n",
    "print('Accuracy on train set for the best parameter:', clf.score(train, Y_train))\n",
    "print('Accuracy on train set for the best parameter, with idf:', clf_idf.score(train_idf, Y_train))\n",
    "print('Accuracy on dev set for the best parameter:', clf.score(dev, Y_dev))\n",
    "print('Accuracy on dev set for the best parameter, with idf:', clf_idf.score(dev_idf, Y_dev))\n",
    "print(\"Best C no idf:\" + str(a_best))\n",
    "print(\"Best C with idf:\" + str(a_best_idf))"
   ]
  },
  {
   "cell_type": "code",
   "execution_count": 13,
   "metadata": {},
   "outputs": [],
   "source": [
    "# 4 - Produce 2210 predictions for the test set (in the same order). One line = one prediction (=0,1,2,3,4).\n",
    "#     Attach the output file \"logreg_bov_y_test_sst.txt\" to your deliverable.\n",
    "#     You will be evaluated on the results of the test set.\n",
    "clf = LogisticRegression(penalty=\"l2\", C=a_best_idf, solver='liblinear', multi_class='ovr')\n",
    "clf.fit(train_idf, Y_train)\n",
    "Y_pred = clf.predict(test_idf).reshape(-1, 1).astype(int)\n",
    "np.savetxt(\"logreg_bov_y_test_sst.txt\", Y_pred, '%i') "
   ]
  },
  {
   "cell_type": "code",
   "execution_count": 35,
   "metadata": {},
   "outputs": [
    {
     "name": "stdout",
     "output_type": "stream",
     "text": [
      "Score on dev set:0.4123524069028156\n"
     ]
    }
   ],
   "source": [
    "# BONUS!\n",
    "# 5 - Try to improve performance with another classifier\n",
    "#     Attach the output file \"XXX_bov_y_test_sst.txt\" to your deliverable (where XXX = the name of the classifier)\n",
    "\n",
    "# Here, I used a SVM classifier on idf vectors\n",
    "\n",
    "from sklearn.svm import SVC\n",
    "# the parameters were chosen after some tuning\n",
    "clf_svm = SVC(C=1, kernel='rbf', gamma='scale')\n",
    "clf_svm.fit(train_idf, Y_train)\n",
    "print('Score on dev set:'+str(clf_svm.score(dev_idf, Y_dev)))\n",
    "\n",
    "Y_pred = clf_svm.predict(test_idf).reshape(-1, 1).astype(int)\n",
    "np.savetxt(\"svm_bov_y_test_sst.txt\", Y_pred, '%i') "
   ]
  },
  {
   "cell_type": "markdown",
   "metadata": {},
   "source": [
    "# 4) Sentence classification with LSTMs in Keras"
   ]
  },
  {
   "cell_type": "markdown",
   "metadata": {},
   "source": [
    "## 4.1 - Preprocessing"
   ]
  },
  {
   "cell_type": "code",
   "execution_count": 22,
   "metadata": {
    "collapsed": false,
    "jupyter": {
     "outputs_hidden": false
    }
   },
   "outputs": [],
   "source": [
    "import tensorflow as tf"
   ]
  },
  {
   "cell_type": "code",
   "execution_count": 23,
   "metadata": {},
   "outputs": [],
   "source": [
    "# 1 - Using the same dataset, transform text to integers using tf.keras.preprocessing.text.one_hot function\n",
    "#     https://keras.io/preprocessing/text/\n",
    "\n",
    "# I rather use Tokenizer \n",
    "from tensorflow.keras.preprocessing.text import Tokenizer\n",
    "\n",
    "tokenizer = Tokenizer(num_words=50000)\n",
    "tokenizer.fit_on_texts(train_raw+dev_raw+test_raw)\n",
    "tokenized = tokenizer.texts_to_sequences(train_raw+dev_raw+test_raw)\n",
    "train_token = tokenized[:len(train_raw)]\n",
    "dev_token = tokenized[len(train_raw): len(train_raw)+len(dev_raw)]\n",
    "test_token = tokenized[len(train_raw)+len(dev_raw): len(train_raw)+len(dev_raw)+len(test_raw)]"
   ]
  },
  {
   "cell_type": "markdown",
   "metadata": {},
   "source": [
    "**Padding input data**\n",
    "\n",
    "Models in Keras (and elsewhere) take batches of sentences of the same length as input. It is because Deep Learning framework have been designed to handle well Tensors, which are particularly suited for fast computation on the GPU.\n",
    "\n",
    "Since sentences have different sizes, we \"pad\" them. That is, we add dummy \"padding\" tokens so that they all have the same length.\n",
    "\n",
    "The input to a Keras model thus has this size : (batchsize, maxseqlen) where maxseqlen is the maximum length of a sentence in the batch."
   ]
  },
  {
   "cell_type": "code",
   "execution_count": 52,
   "metadata": {},
   "outputs": [],
   "source": [
    "# 2 - Pad your sequences using tf.keras.preprocessing.sequence.pad_sequences\n",
    "#     https://keras.io/preprocessing/sequence/\n",
    "max_len = 100\n",
    "from tensorflow.keras.preprocessing import sequence\n",
    "x_train = sequence.pad_sequences(train_token, maxlen=max_len)\n",
    "x_dev = sequence.pad_sequences(dev_token, maxlen=max_len)\n",
    "x_test = sequence.pad_sequences(test_token, maxlen=max_len)\n"
   ]
  },
  {
   "cell_type": "markdown",
   "metadata": {},
   "source": [
    "## 4.2 - Design and train your model"
   ]
  },
  {
   "cell_type": "code",
   "execution_count": 53,
   "metadata": {},
   "outputs": [],
   "source": [
    "# 3 - Design your encoder + classifier using tensorflow.keras.layers\n",
    "#     In Keras, Torch and other deep learning framework, we create a \"container\" which is the Sequential() module.\n",
    "#     Then we add components to this container : the lookup-table, the LSTM, the classifier etc.\n",
    "#     All of these components are contained in the Sequential() and are trained together.\n",
    "#     Note that the embedding layer is initialized randomly and does not take advantage of pre-trained word embeddings.\n",
    "\n",
    "\n",
    "# ADAPT CODE BELOW\n",
    "\n",
    "\n",
    "from tensorflow.keras.models import Sequential\n",
    "from tensorflow.keras.layers import Embedding, LSTM, Dense, Activation\n",
    "\n",
    "embed_dim  = 32  # word embedding dimension\n",
    "nhid       = 64  # number of hidden units in the LSTM\n",
    "vocab_size = 50000  # size of the vocabulary\n",
    "n_classes  = 5\n",
    "\n",
    "model = Sequential()\n",
    "model.add(Embedding(vocab_size, embed_dim))\n",
    "model.add(LSTM(nhid, dropout=0.2, recurrent_dropout=0.2))\n",
    "model.add(Dense(n_classes, activation='sigmoid'))"
   ]
  },
  {
   "cell_type": "code",
   "execution_count": 54,
   "metadata": {
    "collapsed": false,
    "jupyter": {
     "outputs_hidden": false
    }
   },
   "outputs": [
    {
     "name": "stdout",
     "output_type": "stream",
     "text": [
      "Model: \"sequential_2\"\n",
      "_________________________________________________________________\n",
      "Layer (type)                 Output Shape              Param #   \n",
      "=================================================================\n",
      "embedding_4 (Embedding)      (None, None, 32)          1600000   \n",
      "_________________________________________________________________\n",
      "lstm_4 (LSTM)                (None, 64)                24832     \n",
      "_________________________________________________________________\n",
      "dense_4 (Dense)              (None, 5)                 325       \n",
      "=================================================================\n",
      "Total params: 1,625,157\n",
      "Trainable params: 1,625,157\n",
      "Non-trainable params: 0\n",
      "_________________________________________________________________\n",
      "None\n"
     ]
    }
   ],
   "source": [
    "# 4 - Define your loss/optimizer/metrics\n",
    "\n",
    "# MODIFY CODE BELOW\n",
    "\n",
    "loss_classif     =  'categorical_crossentropy' # find the right loss for multi-class classification\n",
    "optimizer        =  'adam' # find the right optimizer\n",
    "metrics_classif  =  ['accuracy']\n",
    "\n",
    "# Observe how easy (but blackboxed) this is in Keras\n",
    "model.compile(loss=loss_classif,\n",
    "              optimizer=optimizer,\n",
    "              metrics=metrics_classif)\n",
    "print(model.summary())"
   ]
  },
  {
   "cell_type": "code",
   "execution_count": 55,
   "metadata": {
    "scrolled": true
   },
   "outputs": [
    {
     "name": "stdout",
     "output_type": "stream",
     "text": [
      "WARNING:tensorflow:The `nb_epoch` argument in `fit` has been renamed `epochs`.\n",
      "Train on 8544 samples, validate on 1101 samples\n",
      "Epoch 1/6\n",
      "8512/8544 [============================>.] - ETA: 0s - loss: 1.5731 - accuracy: 0.2747\n",
      "Epoch 00001: val_accuracy improved from -inf to 0.25341, saving model to weights.hdf5\n",
      "8544/8544 [==============================] - 68s 8ms/sample - loss: 1.5731 - accuracy: 0.2748 - val_loss: 1.5681 - val_accuracy: 0.2534\n",
      "Epoch 2/6\n",
      "8512/8544 [============================>.] - ETA: 0s - loss: 1.4938 - accuracy: 0.3311\n",
      "Epoch 00002: val_accuracy improved from 0.25341 to 0.37965, saving model to weights.hdf5\n",
      "8544/8544 [==============================] - 53s 6ms/sample - loss: 1.4934 - accuracy: 0.3316 - val_loss: 1.4107 - val_accuracy: 0.3797\n",
      "Epoch 3/6\n",
      "8512/8544 [============================>.] - ETA: 0s - loss: 1.2132 - accuracy: 0.4584\n",
      "Epoch 00003: val_accuracy improved from 0.37965 to 0.39237, saving model to weights.hdf5\n",
      "8544/8544 [==============================] - 52s 6ms/sample - loss: 1.2135 - accuracy: 0.4577 - val_loss: 1.3590 - val_accuracy: 0.3924\n",
      "Epoch 4/6\n",
      "8512/8544 [============================>.] - ETA: 0s - loss: 0.9853 - accuracy: 0.5489\n",
      "Epoch 00004: val_accuracy did not improve from 0.39237\n",
      "8544/8544 [==============================] - 52s 6ms/sample - loss: 0.9850 - accuracy: 0.5485 - val_loss: 1.4530 - val_accuracy: 0.3751\n",
      "Epoch 5/6\n",
      "8512/8544 [============================>.] - ETA: 0s - loss: 0.7958 - accuracy: 0.6862\n",
      "Epoch 00005: val_accuracy did not improve from 0.39237\n",
      "8544/8544 [==============================] - 54s 6ms/sample - loss: 0.7955 - accuracy: 0.6867 - val_loss: 1.6021 - val_accuracy: 0.3842\n",
      "Epoch 6/6\n",
      "8512/8544 [============================>.] - ETA: 0s - loss: 0.6160 - accuracy: 0.7830\n",
      "Epoch 00006: val_accuracy did not improve from 0.39237\n",
      "8544/8544 [==============================] - 56s 7ms/sample - loss: 0.6162 - accuracy: 0.7831 - val_loss: 1.8247 - val_accuracy: 0.3760\n"
     ]
    }
   ],
   "source": [
    "# 5 - Train your model and find the best hyperparameters for your dev set\n",
    "#     you will be evaluated on the quality of your predictions on the test set\n",
    "#     Keras expects y_train and y_dev to be one-hot encodings of the labels, i.e. with shape=(n_samples, 5)\n",
    "\n",
    "y_train = tf.keras.utils.to_categorical(Y_train)\n",
    "y_dev = tf.keras.utils.to_categorical(Y_dev)\n",
    "\n",
    "bs = 64\n",
    "n_epochs = 6\n",
    "\n",
    "checkpointer = tf.keras.callbacks.ModelCheckpoint(filepath='weights.hdf5', verbose=1,\n",
    "                                               save_best_only=True, monitor='val_accuracy')\n",
    "\n",
    "history = model.fit(x_train, y_train, batch_size=bs, nb_epoch=n_epochs, \n",
    "                    validation_data=(x_dev, y_dev), callbacks=[checkpointer])"
   ]
  },
  {
   "cell_type": "code",
   "execution_count": 58,
   "metadata": {},
   "outputs": [],
   "source": [
    "# 6 - Generate your predictions on the test set using model.predict(x_test)\n",
    "#     https://keras.io/models/model/\n",
    "#     Log your predictions in a file (one line = one integer: 0,1,2,3,4)\n",
    "#     Attach the output file \"logreg_lstm_y_test_sst.txt\" to your deliverable.\n",
    "\n",
    "# load best model \n",
    "model = tf.keras.models.load_model(\"weights.hdf5\")\n",
    "\n",
    "Y_pred = np.argmax(model.predict(x_test), axis = 1)\n",
    "np.savetxt(\"logreg_lstm_y_test_sst.txt\", Y_pred, '%i') "
   ]
  },
  {
   "cell_type": "markdown",
   "metadata": {},
   "source": [
    "## 4.3 - innovate !"
   ]
  },
  {
   "cell_type": "code",
   "execution_count": 57,
   "metadata": {},
   "outputs": [
    {
     "name": "stdout",
     "output_type": "stream",
     "text": [
      "- Build embedding_matrix\n",
      "Loaded 50000 pretrained word vectors\n",
      "- Fill nan values with normal distribution\n",
      "Model: \"model_2\"\n",
      "__________________________________________________________________________________________________\n",
      "Layer (type)                    Output Shape         Param #     Connected to                     \n",
      "==================================================================================================\n",
      "input_3 (InputLayer)            [(None, 100)]        0                                            \n",
      "__________________________________________________________________________________________________\n",
      "embedding_5 (Embedding)         (None, 100, 300)     15000000    input_3[0][0]                    \n",
      "__________________________________________________________________________________________________\n",
      "spatial_dropout1d_2 (SpatialDro (None, 100, 300)     0           embedding_5[0][0]                \n",
      "__________________________________________________________________________________________________\n",
      "bidirectional_2 (Bidirectional) (None, 100, 128)     186880      spatial_dropout1d_2[0][0]        \n",
      "__________________________________________________________________________________________________\n",
      "conv1d_2 (Conv1D)               (None, 98, 64)       24640       bidirectional_2[0][0]            \n",
      "__________________________________________________________________________________________________\n",
      "global_average_pooling1d_2 (Glo (None, 64)           0           conv1d_2[0][0]                   \n",
      "__________________________________________________________________________________________________\n",
      "global_max_pooling1d_2 (GlobalM (None, 64)           0           conv1d_2[0][0]                   \n",
      "__________________________________________________________________________________________________\n",
      "concatenate_2 (Concatenate)     (None, 128)          0           global_average_pooling1d_2[0][0] \n",
      "                                                                 global_max_pooling1d_2[0][0]     \n",
      "__________________________________________________________________________________________________\n",
      "dense_5 (Dense)                 (None, 5)            645         concatenate_2[0][0]              \n",
      "==================================================================================================\n",
      "Total params: 15,212,165\n",
      "Trainable params: 212,165\n",
      "Non-trainable params: 15,000,000\n",
      "__________________________________________________________________________________________________\n",
      "WARNING:tensorflow:The `nb_epoch` argument in `fit` has been renamed `epochs`.\n",
      "Train on 8544 samples, validate on 1101 samples\n",
      "Epoch 1/20\n",
      "8512/8544 [============================>.] - ETA: 0s - loss: 1.5651 - accuracy: 0.2784\n",
      "Epoch 00001: val_accuracy improved from -inf to 0.29791, saving model to weights_.hdf5\n",
      "8544/8544 [==============================] - 188s 22ms/sample - loss: 1.5648 - accuracy: 0.2790 - val_loss: 1.5321 - val_accuracy: 0.2979\n",
      "Epoch 2/20\n",
      "8512/8544 [============================>.] - ETA: 0s - loss: 1.4549 - accuracy: 0.3515\n",
      "Epoch 00002: val_accuracy improved from 0.29791 to 0.37965, saving model to weights_.hdf5\n",
      "8544/8544 [==============================] - 170s 20ms/sample - loss: 1.4545 - accuracy: 0.3521 - val_loss: 1.3870 - val_accuracy: 0.3797\n",
      "Epoch 3/20\n",
      "8512/8544 [============================>.] - ETA: 0s - loss: 1.3707 - accuracy: 0.3875\n",
      "Epoch 00003: val_accuracy improved from 0.37965 to 0.39419, saving model to weights_.hdf5\n",
      "8544/8544 [==============================] - 171s 20ms/sample - loss: 1.3708 - accuracy: 0.3874 - val_loss: 1.3434 - val_accuracy: 0.3942\n",
      "Epoch 4/20\n",
      "8512/8544 [============================>.] - ETA: 0s - loss: 1.3346 - accuracy: 0.4115\n",
      "Epoch 00004: val_accuracy improved from 0.39419 to 0.40054, saving model to weights_.hdf5\n",
      "8544/8544 [==============================] - 171s 20ms/sample - loss: 1.3341 - accuracy: 0.4121 - val_loss: 1.3157 - val_accuracy: 0.4005\n",
      "Epoch 5/20\n",
      "8512/8544 [============================>.] - ETA: 0s - loss: 1.3050 - accuracy: 0.4280\n",
      "Epoch 00005: val_accuracy improved from 0.40054 to 0.40963, saving model to weights_.hdf5\n",
      "8544/8544 [==============================] - 171s 20ms/sample - loss: 1.3052 - accuracy: 0.4281 - val_loss: 1.2940 - val_accuracy: 0.4096\n",
      "Epoch 6/20\n",
      "8512/8544 [============================>.] - ETA: 0s - loss: 1.2666 - accuracy: 0.4481\n",
      "Epoch 00006: val_accuracy improved from 0.40963 to 0.41417, saving model to weights_.hdf5\n",
      "8544/8544 [==============================] - 171s 20ms/sample - loss: 1.2666 - accuracy: 0.4478 - val_loss: 1.3079 - val_accuracy: 0.4142\n",
      "Epoch 7/20\n",
      "8512/8544 [============================>.] - ETA: 0s - loss: 1.2469 - accuracy: 0.4545\n",
      "Epoch 00007: val_accuracy improved from 0.41417 to 0.42325, saving model to weights_.hdf5\n",
      "8544/8544 [==============================] - 171s 20ms/sample - loss: 1.2470 - accuracy: 0.4544 - val_loss: 1.2907 - val_accuracy: 0.4233\n",
      "Epoch 8/20\n",
      "8512/8544 [============================>.] - ETA: 0s - loss: 1.2197 - accuracy: 0.4712\n",
      "Epoch 00008: val_accuracy did not improve from 0.42325\n",
      "8544/8544 [==============================] - 171s 20ms/sample - loss: 1.2194 - accuracy: 0.4714 - val_loss: 1.2918 - val_accuracy: 0.4151\n",
      "Epoch 9/20\n",
      "8512/8544 [============================>.] - ETA: 0s - loss: 1.1993 - accuracy: 0.4818\n",
      "Epoch 00009: val_accuracy did not improve from 0.42325\n",
      "8544/8544 [==============================] - 170s 20ms/sample - loss: 1.1992 - accuracy: 0.4820 - val_loss: 1.3021 - val_accuracy: 0.4214\n",
      "Epoch 10/20\n",
      "8512/8544 [============================>.] - ETA: 0s - loss: 1.1762 - accuracy: 0.4979\n",
      "Epoch 00010: val_accuracy did not improve from 0.42325\n",
      "8544/8544 [==============================] - 170s 20ms/sample - loss: 1.1758 - accuracy: 0.4977 - val_loss: 1.2962 - val_accuracy: 0.4214\n",
      "Epoch 11/20\n",
      "8512/8544 [============================>.] - ETA: 0s - loss: 1.1519 - accuracy: 0.5055\n",
      "Epoch 00011: val_accuracy did not improve from 0.42325\n",
      "8544/8544 [==============================] - 171s 20ms/sample - loss: 1.1520 - accuracy: 0.5051 - val_loss: 1.3108 - val_accuracy: 0.4196\n",
      "Epoch 12/20\n",
      "8512/8544 [============================>.] - ETA: 0s - loss: 1.1172 - accuracy: 0.5282\n",
      "Epoch 00012: val_accuracy improved from 0.42325 to 0.42598, saving model to weights_.hdf5\n",
      "8544/8544 [==============================] - 168s 20ms/sample - loss: 1.1180 - accuracy: 0.5280 - val_loss: 1.3082 - val_accuracy: 0.4260\n",
      "Epoch 13/20\n",
      "8512/8544 [============================>.] - ETA: 0s - loss: 1.0917 - accuracy: 0.5417\n",
      "Epoch 00013: val_accuracy did not improve from 0.42598\n",
      "8544/8544 [==============================] - 146s 17ms/sample - loss: 1.0917 - accuracy: 0.5419 - val_loss: 1.3055 - val_accuracy: 0.4160\n",
      "Epoch 14/20\n",
      "8512/8544 [============================>.] - ETA: 0s - loss: 1.0628 - accuracy: 0.5545\n",
      "Epoch 00014: val_accuracy did not improve from 0.42598\n",
      "8544/8544 [==============================] - 128s 15ms/sample - loss: 1.0639 - accuracy: 0.5541 - val_loss: 1.3550 - val_accuracy: 0.4060\n",
      "Epoch 15/20\n",
      "8512/8544 [============================>.] - ETA: 0s - loss: 1.0323 - accuracy: 0.5754\n",
      "Epoch 00015: val_accuracy did not improve from 0.42598\n",
      "8544/8544 [==============================] - 120s 14ms/sample - loss: 1.0332 - accuracy: 0.5751 - val_loss: 1.3572 - val_accuracy: 0.4087\n",
      "Epoch 16/20\n",
      "8512/8544 [============================>.] - ETA: 0s - loss: 1.0103 - accuracy: 0.5764\n",
      "Epoch 00016: val_accuracy did not improve from 0.42598\n",
      "8544/8544 [==============================] - 120s 14ms/sample - loss: 1.0098 - accuracy: 0.5765 - val_loss: 1.3790 - val_accuracy: 0.4069\n",
      "Epoch 17/20\n",
      "8512/8544 [============================>.] - ETA: 0s - loss: 0.9772 - accuracy: 0.5963\n",
      "Epoch 00017: val_accuracy did not improve from 0.42598\n",
      "8544/8544 [==============================] - 120s 14ms/sample - loss: 0.9780 - accuracy: 0.5960 - val_loss: 1.4061 - val_accuracy: 0.4114\n",
      "Epoch 18/20\n",
      "8512/8544 [============================>.] - ETA: 0s - loss: 0.9490 - accuracy: 0.6103\n",
      "Epoch 00018: val_accuracy did not improve from 0.42598\n",
      "8544/8544 [==============================] - 120s 14ms/sample - loss: 0.9496 - accuracy: 0.6103 - val_loss: 1.4214 - val_accuracy: 0.4024\n",
      "Epoch 19/20\n",
      "8512/8544 [============================>.] - ETA: 0s - loss: 0.9010 - accuracy: 0.6335\n",
      "Epoch 00019: val_accuracy did not improve from 0.42598\n",
      "8544/8544 [==============================] - 122s 14ms/sample - loss: 0.9007 - accuracy: 0.6339 - val_loss: 1.4718 - val_accuracy: 0.4169\n",
      "Epoch 20/20\n",
      "8512/8544 [============================>.] - ETA: 0s - loss: 0.8899 - accuracy: 0.6436\n",
      "Epoch 00020: val_accuracy did not improve from 0.42598\n",
      "8544/8544 [==============================] - 120s 14ms/sample - loss: 0.8908 - accuracy: 0.6430 - val_loss: 1.4900 - val_accuracy: 0.3987\n"
     ]
    }
   ],
   "source": [
    "# 7 - Open question: find a model that is better on your dev set\n",
    "#     (e.g: use a 1D ConvNet, use a better classifier, pretrain your lookup tables ..)\n",
    "#     you will get point if the results on the test set are better: be careful of not overfitting your dev set too much..\n",
    "#     Attach the output file \"XXX_XXX_y_test_sst.txt\" to your deliverable.\n",
    "from tensorflow.keras.models import Model\n",
    "from tensorflow.keras.layers import Dense, Input, LSTM, Embedding, Dropout, Bidirectional, \\\n",
    "                                    GlobalMaxPooling1D, SpatialDropout1D, Conv1D, GRU, \\\n",
    "                                    GlobalAveragePooling1D, concatenate\n",
    "from tensorflow.keras.optimizers import Adam\n",
    "from tensorflow.keras.callbacks import EarlyStopping\n",
    "\n",
    "\n",
    "bs = 64\n",
    "n_epochs = 20\n",
    "max_words = 50000\n",
    "embedding_size = 300\n",
    "max_len = 100\n",
    "\n",
    "# We use pretrained embeddings\n",
    "print('- Build embedding_matrix')\n",
    "\n",
    "word2vec = Word2Vec(en_embeddings_path, vocab_size=max_words)\n",
    "embedding_matrix = np.empty((max_words, embedding_size,))\n",
    "embedding_matrix[:] = np.nan\n",
    "\n",
    "for word in word2vec.words:\n",
    "    idx = tokenizer.word_index.get(word)\n",
    "    if (idx != None) and (idx < max_words):\n",
    "        i = word2vec.word2id[word]\n",
    "        vector = word2vec.embeddings[i]\n",
    "        embedding_matrix[idx] = vector\n",
    "\n",
    "# Fill missing values with normal distribution\n",
    "print('- Fill nan values with normal distribution')\n",
    "np.random.seed(42)\n",
    "emb_not_nan = embedding_matrix[ ~np.isnan(embedding_matrix)]\n",
    "emb_mean = np.mean(emb_not_nan)\n",
    "emb_std = np.std(emb_not_nan)\n",
    "\n",
    "nb_nan = embedding_matrix[ np.isnan(embedding_matrix)].shape[0]\n",
    "embedding_matrix[ np.isnan(embedding_matrix)] = np.random.normal(emb_mean, emb_std, nb_nan)\n",
    "\n",
    "# and then, build a model based on a BiLSTM layer concatenate with a Conv1D layer\n",
    "\n",
    "input_ = Input(shape=(max_len, ))\n",
    "x = Embedding(max_words, embedding_size, weights=[embedding_matrix],trainable = False)(input_)\n",
    "x = SpatialDropout1D(0.1)(x)\n",
    "x = Bidirectional(LSTM(64, return_sequences=True,dropout=0.1,recurrent_dropout=0.1))(x)\n",
    "x = Conv1D(64, kernel_size = 3, padding = \"valid\", kernel_initializer = \"glorot_uniform\")(x)\n",
    "avg_pool = GlobalAveragePooling1D()(x)\n",
    "max_pool = GlobalMaxPooling1D()(x)\n",
    "x = concatenate([avg_pool, max_pool]) \n",
    "preds = Dense(5, activation=\"sigmoid\")(x)\n",
    "model = Model(input_, preds)\n",
    "model.summary()\n",
    "model.compile(optimizer=Adam(), loss='categorical_crossentropy', metrics=['accuracy'])\n",
    "\n",
    "checkpointer = tf.keras.callbacks.ModelCheckpoint(filepath='weights_.hdf5', verbose=1,\n",
    "                                               save_best_only=True, monitor='val_accuracy')\n",
    "\n",
    "history = model.fit(x_train, y_train, batch_size=bs, nb_epoch=n_epochs, \n",
    "                    validation_data=(x_dev, y_dev), callbacks=[checkpointer])\n",
    "\n",
    "model = tf.keras.models.load_model(\"weights_.hdf5\")\n",
    "\n",
    "Y_pred = np.argmax(model.predict(x_test), axis = 1)\n",
    "np.savetxt(\"conv1D_lstm_y_test_sst.txt\", Y_pred, '%i') "
   ]
  }
 ],
 "metadata": {
  "kernelspec": {
   "display_name": "Python 3",
   "language": "python",
   "name": "python3"
  },
  "language_info": {
   "codemirror_mode": {
    "name": "ipython",
    "version": 3
   },
   "file_extension": ".py",
   "mimetype": "text/x-python",
   "name": "python",
   "nbconvert_exporter": "python",
   "pygments_lexer": "ipython3",
   "version": "3.7.4"
  }
 },
 "nbformat": 4,
 "nbformat_minor": 4
}
